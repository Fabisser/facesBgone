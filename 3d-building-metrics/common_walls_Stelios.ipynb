{
 "cells": [
  {
   "cell_type": "code",
   "execution_count": 3,
   "id": "71920ead",
   "metadata": {
    "scrolled": false
   },
   "outputs": [],
   "source": [
    "#this script only keeps what is essential to finding common walls\n",
    "\n",
    "import json\n",
    "import numpy as np\n",
    "import pyvista as pv\n",
    "import math\n",
    "import os\n",
    "from helpers.geometry import surface_normal, project_2d, axes_of_normal\n",
    "from shapely.geometry import MultiPolygon, Polygon\n",
    "import scipy\n",
    "from sklearn.cluster import AgglomerativeClustering\n",
    "import rtree.index\n",
    "import cityjson\n",
    "import matplotlib.pyplot as plt\n",
    "\n",
    "\n",
    "#compute surface normal (might be useful)\n",
    "def surface_normal(poly):\n",
    "    n = [0.0, 0.0, 0.0]\n",
    "\n",
    "    for i, v_curr in enumerate(poly):\n",
    "        v_next = poly[(i+1) % len(poly)]\n",
    "        n[0] += (v_curr[1] - v_next[1]) * (v_curr[2] + v_next[2])\n",
    "        n[1] += (v_curr[2] - v_next[2]) * (v_curr[0] + v_next[0])\n",
    "        n[2] += (v_curr[0] - v_next[0]) * (v_curr[1] + v_next[1])\n",
    "    \n",
    "        if all([c == 0 for c in n]):\n",
    "            raise ValueError(\"No normal. Possible colinear points!\")\n",
    "\n",
    "    normalised = [i/np.linalg.norm(n) for i in n]\n",
    "\n",
    "    return normalised\n",
    "\n",
    "\n",
    "def is_on_plane(point, normal, origin):\n",
    "    a, b, c, d = get_plane_params(normal, origin)\n",
    "    \n",
    "    x, y, z = point\n",
    "    \n",
    "    return a * x + b * y + c * z + d == 0\n",
    "\n",
    "\n",
    "def plane_params(normal, origin, rounding=2, absolute=True):\n",
    "    \"\"\"Returns the params (a, b, c, d) of the plane equation\"\"\"\n",
    "    a, b, c = np.round_(normal, 3)\n",
    "    x0, y0, z0 = origin\n",
    "    \n",
    "    d = -(a * x0 + b * y0 + c * z0)\n",
    "    \n",
    "    if rounding >= 0:\n",
    "        d = round(d, rounding)\n",
    "    \n",
    "    return np.array([a, b, c, d])\n",
    "\n",
    "\n",
    "def face_planes(mesh):\n",
    "    return [plane_params(mesh.face_normals[i], mesh.cell_points(i)[0]) for i in range(mesh.n_cells)]\n",
    "\n",
    "\n",
    "def project_mesh(mesh, normal, origin):\n",
    "    p = []\n",
    "    for i in range(mesh.n_cells):\n",
    "        pts = mesh.cell_points(i)\n",
    "        \n",
    "        pts_2d = project_2d(pts, normal, origin)\n",
    "        \n",
    "        p.append(Polygon(pts_2d))\n",
    "    \n",
    "    return MultiPolygon(p).buffer(0)\n",
    "\n",
    "\n",
    "def to_3d(polygon, normal, origin):\n",
    "    xa, ya = axes_of_normal(normal)\n",
    "\n",
    "    mat = np.array([xa, ya])\n",
    "    pts = np.array(polygon.boundary.coords)\n",
    "\n",
    "    return np.dot(pts, mat) + origin\n",
    "\n",
    "\n",
    "def cluster_faces(data, threshold=0.1):\n",
    "    ndata = np.array(data)\n",
    "    \n",
    "    dm1 = scipy.spatial.distance_matrix(ndata, ndata)\n",
    "    dm2 = scipy.spatial.distance_matrix(ndata, -ndata)\n",
    "\n",
    "    distance_matrix = np.minimum(dm1, dm2)\n",
    "\n",
    "    clustering = AgglomerativeClustering(n_clusters=None, distance_threshold=threshold, affinity='precomputed', linkage='average').fit(distance_matrix)\n",
    "    \n",
    "    return clustering.labels_, clustering.n_clusters_\n",
    "\n",
    "\n",
    "def cluster_meshes(meshes, threshold=0.1):\n",
    "    \"\"\"Clusters the faces of the given meshes\"\"\"\n",
    "    \n",
    "    n_meshes = len(meshes)\n",
    "    \n",
    "    # Compute the \"absolute\" plane params for every face of the two meshes\n",
    "    # list containing sublist for each mesh (each sublist containing one array for parameters of each plane)\n",
    "    planes = [face_planes(mesh) for mesh in meshes]\n",
    "    mesh_ids = [[m for _ in range(meshes[m].n_cells)] for m in range(n_meshes)]\n",
    "    \n",
    "    # Find the common planes between the two meshes\n",
    "    # array of parameters for all planes in both meshes (combined)\n",
    "    all_planes = np.concatenate(planes)\n",
    "    all_labels, n_clusters = cluster_faces(all_planes, threshold)\n",
    "    areas = []\n",
    "\n",
    "    # list of arrays (one for each mesh) indicating cluster labels for each face\n",
    "    labels = np.array_split(all_labels, [meshes[m].n_cells for m in range(n_meshes - 1)])\n",
    "    \n",
    "    return labels, n_clusters\n",
    "\n",
    "\n",
    "def intersect_surfaces(meshes):\n",
    "    \"\"\"Return the intersection between the surfaces of multiple meshes\"\"\"\n",
    "    \n",
    "    n_meshes = len(meshes)\n",
    "    \n",
    "    areas = []\n",
    "\n",
    "    # labels = ndarray of cluster labels associated with each face, n_clusters = integer [number of clusters]\n",
    "    labels, n_clusters = cluster_meshes(meshes)\n",
    "\n",
    "    # for every cluster\n",
    "    for plane in range(n_clusters):\n",
    "        # For every mesh, extract the index of the faces that belong to this cluster\n",
    "        # idxs is a list of sublists (one for each mesh) containing face indices\n",
    "        idxs = [[i for i, p in enumerate(labels[m]) if p == plane] for m in range(n_meshes)]\n",
    "\n",
    "        # check to ensure that both meshes have at least one face that belongs to this cluster\n",
    "        if any([len(idx) == 0 for idx in idxs]):\n",
    "            continue\n",
    "#         # Logic says: if any of the faces of the different meshes, are found to belong to the same cluster\n",
    "#         # it means that the buildings are adjacent\n",
    "#         # and I don't need the rest of the code of this function --> which leads to errors\n",
    "#         else:\n",
    "#             return True\n",
    "        \n",
    "#     return False                \n",
    "        \n",
    "# \"\"\" OLD CODE for intersect_surfaces function \"\"\"\n",
    "\n",
    "        # take surfaces from each mesh that belong to this cluster, and put them in a polydata object\n",
    "        msurfaces = [mesh.extract_cells(idxs[i]).extract_surface() for i, mesh in enumerate(meshes)]\n",
    "                \n",
    "        # Set the normal and origin point for a plane to project the faces\n",
    "        origin = msurfaces[0].clean().points[0]\n",
    "        # get the normal of the first face of the first mesh\n",
    "        normal = msurfaces[0].face_normals[0]\n",
    "        \n",
    "        # Create the two 2D polygons by projecting the faces\n",
    "        # creates list of polygons and multipolygons (one for each mesh)\n",
    "        polys = [project_mesh(msurface, normal, origin) for msurface in msurfaces]\n",
    "        \n",
    "        # Intersect the 2D polygons => finds intersection of all polygons\n",
    "        inter = polys[0]\n",
    "        for i in range(1, len(polys)):\n",
    "            inter = inter.intersection(polys[i])\n",
    "        \n",
    "        if inter.area > 0.001:\n",
    "            if inter.type == \"MultiPolygon\":\n",
    "                #  project back to 3D\n",
    "                for geom in inter.geoms:\n",
    "                    pts = to_3d(geom, normal, origin)\n",
    "                    common_mesh = pv.PolyData(pts, faces=[len(pts)] + list(range(len(pts))))\n",
    "                    common_mesh[\"area\"] = [geom.area]\n",
    "                    areas.append(common_mesh)\n",
    "            else:\n",
    "                    pts = to_3d(inter, normal, origin)\n",
    "                    common_mesh = pv.PolyData(pts, faces=[len(pts)] + list(range(len(pts))))\n",
    "                    common_mesh[\"area\"] = [inter.area]\n",
    "                    areas.append(common_mesh)\n",
    "    \n",
    "    return areas\n",
    "\n",
    "\n",
    "def intersect_pairs(mesh, neighbours):\n",
    "    # can call this function to get common walls between one mesh and many others\n",
    "    return np.hstack([intersect_surfaces([mesh, neighbour]) for neighbour in neighbours])\n",
    "\n",
    "\n",
    "def get_bbox(geom, verts):\n",
    "    pts = np.array(cityjson.get_points(geom, verts))\n",
    "\n",
    "    return np.hstack([[np.min(pts[:, i]), np.max(pts[:, i])] for i in range(np.shape(pts)[1])])\n",
    "\n",
    "\n",
    "def generator_function(cm, verts):\n",
    "    for i, objid in enumerate(cm[\"CityObjects\"]):\n",
    "        obj = cm[\"CityObjects\"][objid]\n",
    "        xmin, xmax, ymin, ymax, zmin, zmax = get_bbox(obj[\"geometry\"][0], verts)\n",
    "        yield (i, (xmin, ymin, zmin, xmax, ymax, zmax), objid)\n",
    "\n",
    "\n",
    "def rpath(path):\n",
    "    return os.path.expanduser(path)\n",
    "\n",
    "\n",
    "def plot_meshes(meshes, **kargs):\n",
    "    p = pv.Plotter(**kargs)\n",
    "\n",
    "    p.add_mesh(meshes[0], color=\"red\")\n",
    "    for mesh in meshes[1:]:\n",
    "        p.add_mesh(mesh)\n",
    "\n",
    "    p.show()\n",
    "\n",
    "\n",
    "def distance(x, y):\n",
    "    \"\"\"Returns the euclidean distance between two points\"\"\"\n",
    "\n",
    "    return math.sqrt(sum([math.pow(x[c] - y[c], 2) for c in range(len(x))]))\n",
    "\n",
    "\n",
    "def abs_distance(x, y):\n",
    "    \"\"\"Returns the minimum absolute distance\"\"\"\n",
    "\n",
    "    return min(distance(x, y), distance(x, [-e for e in y]))\n",
    "\n",
    "\n"
   ]
  },
  {
   "cell_type": "code",
   "execution_count": 4,
   "id": "4741320c",
   "metadata": {},
   "outputs": [],
   "source": [
    "\n",
    "# Implementation\n",
    "\n",
    "# Load cityjson\n",
    "float_formatter = \"{:.3f}\".format\n",
    "np.set_printoptions(formatter={'float_kind':float_formatter})\n",
    "\n",
    "filename = \"blocks_of_adjacent_buildings_subset_5907.json\"\n",
    "\n",
    "with open(filename) as file:\n",
    "    cm = json.load(file)\n",
    "\n",
    "if \"transform\" in cm:\n",
    "    s = cm[\"transform\"][\"scale\"]\n",
    "    t = cm[\"transform\"][\"translate\"]\n",
    "    verts = [[v[0] * s[0] + t[0], v[1] * s[1] + t[1], v[2] * s[2] + t[2]]\n",
    "            for v in cm[\"vertices\"]]\n",
    "else:\n",
    "    verts = cm[\"vertices\"]\n",
    "\n",
    "# mesh points\n",
    "vertices = np.array(verts)\n",
    "\n",
    "# what is this?\n",
    "p = rtree.index.Property()\n",
    "p.dimension = 3\n",
    "r = rtree.index.Index(generator_function(cm, vertices), properties=p)"
   ]
  },
  {
   "cell_type": "code",
   "execution_count": 5,
   "id": "cfbd1f71",
   "metadata": {
    "scrolled": false
   },
   "outputs": [
    {
     "data": {
      "application/vnd.jupyter.widget-view+json": {
       "model_id": "1e7a8ac0592a49ed84aa397c2c4b3acf",
       "version_major": 2,
       "version_minor": 0
      },
      "text/plain": [
       "ViewInteractiveWidget(height=768, layout=Layout(height='auto', width='100%'), width=1024)"
      ]
     },
     "metadata": {},
     "output_type": "display_data"
    },
    {
     "data": {
      "application/vnd.jupyter.widget-view+json": {
       "model_id": "4061488e20324db38b6eca0c60ca8c17",
       "version_major": 2,
       "version_minor": 0
      },
      "text/plain": [
       "ViewInteractiveWidget(height=768, layout=Layout(height='auto', width='100%'), width=1024)"
      ]
     },
     "metadata": {},
     "output_type": "display_data"
    },
    {
     "data": {
      "application/vnd.jupyter.widget-view+json": {
       "model_id": "f624e50d52f343c5ae7d57addae1e18e",
       "version_major": 2,
       "version_minor": 0
      },
      "text/plain": [
       "ViewInteractiveWidget(height=768, layout=Layout(height='auto', width='100%'), width=1024)"
      ]
     },
     "metadata": {},
     "output_type": "display_data"
    },
    {
     "data": {
      "application/vnd.jupyter.widget-view+json": {
       "model_id": "d5c2bf6596f646a9a3eba2feb4a87ee2",
       "version_major": 2,
       "version_minor": 0
      },
      "text/plain": [
       "ViewInteractiveWidget(height=768, layout=Layout(height='auto', width='100%'), width=1024)"
      ]
     },
     "metadata": {},
     "output_type": "display_data"
    },
    {
     "data": {
      "application/vnd.jupyter.widget-view+json": {
       "model_id": "7afd5868a7374591ae6b48a27db23f46",
       "version_major": 2,
       "version_minor": 0
      },
      "text/plain": [
       "ViewInteractiveWidget(height=768, layout=Layout(height='auto', width='100%'), width=1024)"
      ]
     },
     "metadata": {},
     "output_type": "display_data"
    },
    {
     "data": {
      "application/vnd.jupyter.widget-view+json": {
       "model_id": "007dfe3e55fa44cfa499d9613bd0e738",
       "version_major": 2,
       "version_minor": 0
      },
      "text/plain": [
       "ViewInteractiveWidget(height=768, layout=Layout(height='auto', width='100%'), width=1024)"
      ]
     },
     "metadata": {},
     "output_type": "display_data"
    },
    {
     "data": {
      "application/vnd.jupyter.widget-view+json": {
       "model_id": "2efcc06636b740d6a6d5cd7de875d74c",
       "version_major": 2,
       "version_minor": 0
      },
      "text/plain": [
       "ViewInteractiveWidget(height=768, layout=Layout(height='auto', width='100%'), width=1024)"
      ]
     },
     "metadata": {},
     "output_type": "display_data"
    },
    {
     "data": {
      "application/vnd.jupyter.widget-view+json": {
       "model_id": "b77fe4ef203c49e4b4e9cf16102c8844",
       "version_major": 2,
       "version_minor": 0
      },
      "text/plain": [
       "ViewInteractiveWidget(height=768, layout=Layout(height='auto', width='100%'), width=1024)"
      ]
     },
     "metadata": {},
     "output_type": "display_data"
    },
    {
     "name": "stderr",
     "output_type": "stream",
     "text": [
      "IllegalArgumentException: Operation not supported by GeometryCollection\n",
      "\n"
     ]
    },
    {
     "ename": "ValueError",
     "evalue": "No Shapely geometry can be created from null value",
     "output_type": "error",
     "traceback": [
      "\u001b[1;31m---------------------------------------------------------------------------\u001b[0m",
      "\u001b[1;31mValueError\u001b[0m                                Traceback (most recent call last)",
      "Input \u001b[1;32mIn [5]\u001b[0m, in \u001b[0;36m<cell line: 5>\u001b[1;34m()\u001b[0m\n\u001b[0;32m     39\u001b[0m         \u001b[38;5;28;01mfor\u001b[39;00m nearby_building \u001b[38;5;129;01min\u001b[39;00m \u001b[38;5;28mrange\u001b[39m(\u001b[38;5;28mlen\u001b[39m(meshes)):\n\u001b[0;32m     40\u001b[0m             plot_meshes([main_mesh] \u001b[38;5;241m+\u001b[39m [meshes[nearby_building]])\n\u001b[1;32m---> 41\u001b[0m             intersection \u001b[38;5;241m=\u001b[39m \u001b[43mintersect_surfaces\u001b[49m\u001b[43m(\u001b[49m\u001b[43m[\u001b[49m\u001b[43mmain_mesh\u001b[49m\u001b[43m,\u001b[49m\u001b[43m \u001b[49m\u001b[43mmeshes\u001b[49m\u001b[43m[\u001b[49m\u001b[43mnearby_building\u001b[49m\u001b[43m]\u001b[49m\u001b[43m]\u001b[49m\u001b[43m)\u001b[49m\n\u001b[0;32m     42\u001b[0m             \u001b[38;5;28;01mif\u001b[39;00m \u001b[38;5;28mlen\u001b[39m(intersection) \u001b[38;5;241m>\u001b[39m \u001b[38;5;241m0\u001b[39m:                  \n\u001b[0;32m     43\u001b[0m \u001b[38;5;66;03m#             if intersection == True:   \u001b[39;00m\n\u001b[0;32m     44\u001b[0m                 \u001b[38;5;66;03m# update the dictionary: add to the list saved for each object\u001b[39;00m\n\u001b[0;32m     45\u001b[0m                 clustered_buildings[building_part]\u001b[38;5;241m.\u001b[39mappend(meshes_id[nearby_building]) \n",
      "Input \u001b[1;32mIn [3]\u001b[0m, in \u001b[0;36mintersect_surfaces\u001b[1;34m(meshes)\u001b[0m\n\u001b[0;32m    169\u001b[0m         areas\u001b[38;5;241m.\u001b[39mappend(common_mesh)\n\u001b[0;32m    170\u001b[0m \u001b[38;5;28;01melse\u001b[39;00m:\n\u001b[1;32m--> 171\u001b[0m         pts \u001b[38;5;241m=\u001b[39m \u001b[43mto_3d\u001b[49m\u001b[43m(\u001b[49m\u001b[43minter\u001b[49m\u001b[43m,\u001b[49m\u001b[43m \u001b[49m\u001b[43mnormal\u001b[49m\u001b[43m,\u001b[49m\u001b[43m \u001b[49m\u001b[43morigin\u001b[49m\u001b[43m)\u001b[49m\n\u001b[0;32m    172\u001b[0m         common_mesh \u001b[38;5;241m=\u001b[39m pv\u001b[38;5;241m.\u001b[39mPolyData(pts, faces\u001b[38;5;241m=\u001b[39m[\u001b[38;5;28mlen\u001b[39m(pts)] \u001b[38;5;241m+\u001b[39m \u001b[38;5;28mlist\u001b[39m(\u001b[38;5;28mrange\u001b[39m(\u001b[38;5;28mlen\u001b[39m(pts))))\n\u001b[0;32m    173\u001b[0m         common_mesh[\u001b[38;5;124m\"\u001b[39m\u001b[38;5;124marea\u001b[39m\u001b[38;5;124m\"\u001b[39m] \u001b[38;5;241m=\u001b[39m [inter\u001b[38;5;241m.\u001b[39marea]\n",
      "Input \u001b[1;32mIn [3]\u001b[0m, in \u001b[0;36mto_3d\u001b[1;34m(polygon, normal, origin)\u001b[0m\n\u001b[0;32m     73\u001b[0m xa, ya \u001b[38;5;241m=\u001b[39m axes_of_normal(normal)\n\u001b[0;32m     75\u001b[0m mat \u001b[38;5;241m=\u001b[39m np\u001b[38;5;241m.\u001b[39marray([xa, ya])\n\u001b[1;32m---> 76\u001b[0m pts \u001b[38;5;241m=\u001b[39m np\u001b[38;5;241m.\u001b[39marray(\u001b[43mpolygon\u001b[49m\u001b[38;5;241;43m.\u001b[39;49m\u001b[43mboundary\u001b[49m\u001b[38;5;241m.\u001b[39mcoords)\n\u001b[0;32m     78\u001b[0m \u001b[38;5;28;01mreturn\u001b[39;00m np\u001b[38;5;241m.\u001b[39mdot(pts, mat) \u001b[38;5;241m+\u001b[39m origin\n",
      "File \u001b[1;32m~\\AppData\\Local\\Programs\\Python\\Python310\\lib\\site-packages\\shapely\\geometry\\base.py:467\u001b[0m, in \u001b[0;36mBaseGeometry.boundary\u001b[1;34m(self)\u001b[0m\n\u001b[0;32m    459\u001b[0m \u001b[38;5;129m@property\u001b[39m\n\u001b[0;32m    460\u001b[0m \u001b[38;5;28;01mdef\u001b[39;00m \u001b[38;5;21mboundary\u001b[39m(\u001b[38;5;28mself\u001b[39m):\n\u001b[0;32m    461\u001b[0m     \u001b[38;5;124;03m\"\"\"Returns a lower dimension geometry that bounds the object\u001b[39;00m\n\u001b[0;32m    462\u001b[0m \n\u001b[0;32m    463\u001b[0m \u001b[38;5;124;03m    The boundary of a polygon is a line, the boundary of a line is a\u001b[39;00m\n\u001b[0;32m    464\u001b[0m \u001b[38;5;124;03m    collection of points. The boundary of a point is an empty (null)\u001b[39;00m\n\u001b[0;32m    465\u001b[0m \u001b[38;5;124;03m    collection.\u001b[39;00m\n\u001b[0;32m    466\u001b[0m \u001b[38;5;124;03m    \"\"\"\u001b[39;00m\n\u001b[1;32m--> 467\u001b[0m     \u001b[38;5;28;01mreturn\u001b[39;00m \u001b[43mgeom_factory\u001b[49m\u001b[43m(\u001b[49m\u001b[38;5;28;43mself\u001b[39;49m\u001b[38;5;241;43m.\u001b[39;49m\u001b[43mimpl\u001b[49m\u001b[43m[\u001b[49m\u001b[38;5;124;43m'\u001b[39;49m\u001b[38;5;124;43mboundary\u001b[39;49m\u001b[38;5;124;43m'\u001b[39;49m\u001b[43m]\u001b[49m\u001b[43m(\u001b[49m\u001b[38;5;28;43mself\u001b[39;49m\u001b[43m)\u001b[49m\u001b[43m)\u001b[49m\n",
      "File \u001b[1;32m~\\AppData\\Local\\Programs\\Python\\Python310\\lib\\site-packages\\shapely\\geometry\\base.py:73\u001b[0m, in \u001b[0;36mgeom_factory\u001b[1;34m(g, parent)\u001b[0m\n\u001b[0;32m     70\u001b[0m \u001b[38;5;28;01mdef\u001b[39;00m \u001b[38;5;21mgeom_factory\u001b[39m(g, parent\u001b[38;5;241m=\u001b[39m\u001b[38;5;28;01mNone\u001b[39;00m):\n\u001b[0;32m     71\u001b[0m     \u001b[38;5;66;03m# Abstract geometry factory for use with topological methods below\u001b[39;00m\n\u001b[0;32m     72\u001b[0m     \u001b[38;5;28;01mif\u001b[39;00m \u001b[38;5;129;01mnot\u001b[39;00m g:\n\u001b[1;32m---> 73\u001b[0m         \u001b[38;5;28;01mraise\u001b[39;00m \u001b[38;5;167;01mValueError\u001b[39;00m(\u001b[38;5;124m\"\u001b[39m\u001b[38;5;124mNo Shapely geometry can be created from null value\u001b[39m\u001b[38;5;124m\"\u001b[39m)\n\u001b[0;32m     74\u001b[0m     ob \u001b[38;5;241m=\u001b[39m BaseGeometry()\n\u001b[0;32m     75\u001b[0m     geom_type \u001b[38;5;241m=\u001b[39m geometry_type_name(g)\n",
      "\u001b[1;31mValueError\u001b[0m: No Shapely geometry can be created from null value"
     ]
    }
   ],
   "source": [
    "\n",
    "# MULTIPLE BUILDING VERSION\n",
    "clustered_buildings = {}\n",
    "\n",
    "\n",
    "for building_part in cm['CityObjects']:\n",
    "\n",
    "    # filter for only geometry objects\n",
    "    if '-' in building_part:     \n",
    "\n",
    "        clustered_buildings[building_part] = [] # add a key for every object navme and an empty list as its value \n",
    "\n",
    "        # get bounding box of reference building, find the objects that intersect its bbox\n",
    "        xmin, xmax, ymin, ymax, zmin, zmax = get_bbox(cm[\"CityObjects\"][building_part][\"geometry\"][0], verts)\n",
    "        objids = [n.object for n in r.intersection((xmin, ymin, zmin, xmax, ymax, zmax), objects=True) if n.object != building_part]\n",
    "\n",
    "        main_mesh = cityjson.to_triangulated_polydata(cm[\"CityObjects\"][building_part][\"geometry\"][2], vertices).clean()\n",
    "        # meshes = [cityjson.to_triangulated_polydata(cm[\"CityObjects\"][objid][\"geometry\"][2], vertices).clean() for objid in objids if '-' in objid]\n",
    "        meshes = []\n",
    "        meshes_id = []\n",
    "        for objid in objids:\n",
    "            if '-' in objid: # and objid in check_list:\n",
    "                # save the id of the object as well \n",
    "                meshes_id.append(objid)\n",
    "                meshes.append(cityjson.to_triangulated_polydata(cm[\"CityObjects\"][objid][\"geometry\"][2], vertices).clean())\n",
    "\n",
    "        # Make origin of the building mesh at the center (mean) of the points\n",
    "        t = np.mean(main_mesh.points, axis=0)\n",
    "        main_mesh.points -= t\n",
    "        for mesh in meshes:\n",
    "            mesh.points -= t\n",
    "\n",
    "        # visualize candidate buildings + reference building\n",
    "        plot_meshes([main_mesh] + meshes)\n",
    "        # plot = main_mesh.plot(scalars=cluster_meshes([main_mesh])[0])\n",
    "\n",
    "        # plot the intersections between surfaces\n",
    "        intersections = np.array\n",
    "\n",
    "        for nearby_building in range(len(meshes)):\n",
    "            plot_meshes([main_mesh] + [meshes[nearby_building]])\n",
    "            intersection = intersect_surfaces([main_mesh, meshes[nearby_building]])\n",
    "            if len(intersection) > 0:                  \n",
    "#             if intersection == True:   \n",
    "                # update the dictionary: add to the list saved for each object\n",
    "                clustered_buildings[building_part].append(meshes_id[nearby_building]) \n",
    "\n",
    "\n",
    "                # show nearby building that has at lease one shared face\n",
    "                meshes[nearby_building].plot(scalars=cluster_meshes([meshes[nearby_building]])[0], text=f\"Nearby building[{nearby_building}]\")\n",
    "                # show each of the shared faces individually\n",
    "                for i in range(len(intersection)):\n",
    "                    intersection[i].plot(text=f\"Intersection[{i}]\")\n",
    "     \n",
    "                                                        \n",
    "        \n",
    "# with open('merge_buildings.txt', 'w') as f:\n",
    "#     for i in all_merged_buildings:\n",
    "#         f.write(\";\")\n",
    "#         for j in i:\n",
    "#             f.write(j+',')\n",
    "\n",
    "# main_mesh.save(\"cluster.vtk\")\n",
    "\n",
    "\n"
   ]
  },
  {
   "cell_type": "code",
   "execution_count": 6,
   "id": "afd654da",
   "metadata": {},
   "outputs": [
    {
     "name": "stdout",
     "output_type": "stream",
     "text": [
      "list_adj:  [['NL.IMBAG.Pand.0503100000031840-0']]\n"
     ]
    }
   ],
   "source": [
    "            \n",
    "for key in clustered_buildings: \n",
    "    if clustered_buildings[key] != []: # the list \n",
    "        # if (key in clustered_buildings[key2] for key2 in clustered_buildings if key2!=key):\n",
    "        for key2 in clustered_buildings:\n",
    "            if key2!=key:\n",
    "                # if the key I am iterating on is value in another key of the dictionary \n",
    "                if key in clustered_buildings[key2]: # the elements of the list            \n",
    "                    clustered_buildings[key2] = clustered_buildings[key] + clustered_buildings[key2]                     \n",
    "                    # then empty list of key2\n",
    "                    clustered_buildings[key] = []\n",
    "        \n",
    "\n",
    "list_adjb = []\n",
    "for key in clustered_buildings: \n",
    "    if clustered_buildings[key] != []: # the list \n",
    "        list_adjb.append(list(np.unique(clustered_buildings[key])))    \n",
    "        \n",
    "print(\"list_adj: \", list_adjb)"
   ]
  },
  {
   "cell_type": "code",
   "execution_count": null,
   "id": "c57fc87b",
   "metadata": {},
   "outputs": [],
   "source": []
  }
 ],
 "metadata": {
  "kernelspec": {
   "display_name": "Python 3 (ipykernel)",
   "language": "python",
   "name": "python3"
  },
  "language_info": {
   "codemirror_mode": {
    "name": "ipython",
    "version": 3
   },
   "file_extension": ".py",
   "mimetype": "text/x-python",
   "name": "python",
   "nbconvert_exporter": "python",
   "pygments_lexer": "ipython3",
   "version": "3.10.2"
  }
 },
 "nbformat": 4,
 "nbformat_minor": 5
}
