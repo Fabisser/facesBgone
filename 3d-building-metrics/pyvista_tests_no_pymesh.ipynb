{
 "cells": [
  {
   "cell_type": "markdown",
   "id": "7f3186d1",
   "metadata": {},
   "source": [
    "# Playing with CityJSON and pyvista\n",
    "\n",
    "This is a notebook with experiments and demonstration of what we can do with `pyvista` and `pymesh`\n",
    "\n",
    "First we do some imports:"
   ]
  },
  {
   "cell_type": "code",
   "execution_count": 2,
   "id": "ac5dd1cb",
   "metadata": {},
   "outputs": [],
   "source": [
    "import json\n",
    "import numpy as np\n",
    "import pyvista as pv\n",
    "# from pymeshfix import MeshFix\n",
    "import cityjson\n",
    "import shapely\n",
    "import math\n",
    "from tqdm import tqdm\n",
    "import os\n",
    "\n",
    "\n",
    "def rpath(path):\n",
    "    return os.path.expanduser(path)"
   ]
  },
  {
   "cell_type": "markdown",
   "id": "9eea4e4a",
   "metadata": {},
   "source": [
    "Let's load some CityJSON file and have some minor boilerplate code:"
   ]
  },
  {
   "cell_type": "code",
   "execution_count": 4,
   "id": "b546fa93",
   "metadata": {},
   "outputs": [],
   "source": [
    "float_formatter = \"{:.3f}\".format\n",
    "np.set_printoptions(formatter={'float_kind':float_formatter})\n",
    "\n",
    "# bag_tile = 7173\n",
    "\n",
    "# models = {\n",
    "#     \"DenHaag\": \"\",\n",
    "#     \"Helsinki\": rpath(\"~/Dropbox/CityJSON/Helsinki/CityGML_BUILDINGS_LOD2_NOTEXTURES_672496x2.json\"),\n",
    "#     \"Vienna\": rpath(\"~/Dropbox/CityJSON/Vienna/Vienna_102081.json\"),\n",
    "#     \"Montreal\": rpath(\"~/Dropbox/CityJSON/Montreal/VM05_2009.json\"),\n",
    "#     \"random\": rpath(\"~/Downloads/random10_1.json\"),\n",
    "#     \"Delfshaven\": rpath(\"~/Dropbox/CityJSON/rotterdam/Version Old/3-20-DELFSHAVEN_uncompressed.json\"),\n",
    "#     \"NYC\": rpath(\"~/Dropbox/CityJSON/NewYork/NYCsubset.json\"),\n",
    "#     \"bag_tile\": rpath(\"3dbag_v210908_fd2cee53_5907.json\")\n",
    "# }\n",
    "\n",
    "filename = rpath(\"C:/Users/Panagiotior/Desktop/SYNTHESIS/Data/3dbag_v210908_fd2cee53_5907/3dbag_v210908_fd2cee53_5907.json\")\n",
    "\n",
    "with open(filename) as file:\n",
    "    cm = json.load(file)\n",
    "\n",
    "if \"transform\" in cm:\n",
    "    s = cm[\"transform\"][\"scale\"]\n",
    "    t = cm[\"transform\"][\"translate\"]\n",
    "    verts = [[v[0] * s[0] + t[0], v[1] * s[1] + t[1], v[2] * s[2] + t[2]]\n",
    "            for v in cm[\"vertices\"]]\n",
    "else:\n",
    "    verts = cm[\"vertices\"]\n",
    "\n",
    "# mesh points\n",
    "vertices = np.array(verts)"
   ]
  },
  {
   "cell_type": "markdown",
   "id": "989f82ae",
   "metadata": {},
   "source": [
    "## Load a city object in `pyvista`\n",
    "\n",
    "Pick a city object to play with:"
   ]
  },
  {
   "cell_type": "code",
   "execution_count": 5,
   "id": "36cc657e",
   "metadata": {},
   "outputs": [],
   "source": [
    "# obj = \"GUID_816CA7F9-6357-447D-96E3-C74C5E47AABF_2\" # Den Haag\n",
    "# obj = list(cm[\"CityObjects\"].keys())[0]\n",
    "# obj = \"UUID_LOD2_012092-314dbb09-4cfb-41f1-b664\" # Vienna\n",
    "# obj = \"B-201391184551-8C37C51A0CFD\" # Montreal building with open edge\n",
    "# B-20139118400-95DC7A2E0FC0 Montreal\n",
    "# obj = \"B-201391183935-6B8EA1920647\" # Montreal fails\n",
    "# obj = \"BID_df39af63-fd91-4239-98d5-cd63def98167\" # Helsinki\n",
    "# obj = \"B-20131218142410-23B22495FF7A\" # random\n",
    "# obj = \"{D892C834-12D5-4122-A816-ED49E0609DFF}\" # Delfshaven\n",
    "# obj = \"UUID_LOD2_011530-cf0ab883-2798-437c-b530_1\" # Vienna\n",
    "# obj = \"NL.IMBAG.Pand.0599100000601918-0\" # 3338 - 102 roughness 3D\n",
    "# obj = \"NL.IMBAG.Pand.0344100000096859-0\" # 7108 - high roughness 3D\n",
    "# obj = \"NL.IMBAG.Pand.0363100012148630-4\" # 7108 - not that high elongation\n",
    "# obj = \"NL.IMBAG.Pand.0363100012173535-0\" # 7173 - very low horizontal elongation\n",
    "obj = \"NL.IMBAG.Pand.0503100000002036-0\" # added by adele\n",
    "\n",
    "building = cm[\"CityObjects\"][obj]"
   ]
  },
  {
   "cell_type": "markdown",
   "id": "e8148e3d",
   "metadata": {},
   "source": [
    "Loading and plotting the first geometry as a pure `pyvista` (no triangulation done). This sometimes doesn't work because VTK doesn't play well with complex polygons (anything over a quad):"
   ]
  },
  {
   "cell_type": "code",
   "execution_count": 15,
   "id": "62981075",
   "metadata": {},
   "outputs": [
    {
     "data": {
      "text/plain": [
       "'alternatively plot with this'"
      ]
     },
     "execution_count": 15,
     "metadata": {},
     "output_type": "execute_result"
    }
   ],
   "source": [
    "dataset = cityjson.to_polydata(building[\"geometry\"][0], vertices)\n",
    "dataset = dataset.clean()\n",
    "\n",
    "\"\"\"run this code to plot or the below one\"\"\"\n",
    "# dataset.plot(show_edges=True)\n",
    "\"\"\"alternatively plot with this\"\"\"\n",
    "# p = pv.Plotter()\n",
    "# p.add_mesh(dataset, color=\"yellow\")\n",
    "# p.show()\n"
   ]
  },
  {
   "cell_type": "markdown",
   "id": "c9a1cdeb",
   "metadata": {},
   "source": [
    "Now let's load the object as a triangulated mesh (the triangulation is handled by us):"
   ]
  },
  {
   "cell_type": "code",
   "execution_count": 16,
   "id": "947b6dc9",
   "metadata": {},
   "outputs": [
    {
     "data": {
      "text/plain": [
       "'or'"
      ]
     },
     "execution_count": 16,
     "metadata": {},
     "output_type": "execute_result"
    }
   ],
   "source": [
    "trimesh = cityjson.to_triangulated_polydata(building[\"geometry\"][0], vertices).clean()\n",
    "# trimesh.plot(show_edges=True)\n",
    "\"\"\"or\"\"\"\n",
    "# p = pv.Plotter()\n",
    "# p.add_mesh(trimesh, color=\"yellow\")\n",
    "# p.show()\n"
   ]
  },
  {
   "cell_type": "code",
   "execution_count": 17,
   "id": "fe044b6a",
   "metadata": {},
   "outputs": [],
   "source": [
    "# trimesh.clean().plot()"
   ]
  },
  {
   "cell_type": "markdown",
   "id": "8a6cf672",
   "metadata": {},
   "source": [
    "BASIC ANALYSIS OF THE MESH"
   ]
  },
  {
   "cell_type": "markdown",
   "id": "fedfd7e0",
   "metadata": {},
   "source": [
    "First, let's extract some feature edges"
   ]
  },
  {
   "cell_type": "code",
   "execution_count": 22,
   "id": "3558ad7a",
   "metadata": {},
   "outputs": [],
   "source": [
    "# trimesh.clean().extract_feature_edges().plot()"
   ]
  },
  {
   "cell_type": "markdown",
   "id": "2c9cdbdf",
   "metadata": {},
   "source": [
    "We can plot the edges alongside the mesh itself:"
   ]
  },
  {
   "cell_type": "code",
   "execution_count": 19,
   "id": "a07663b9",
   "metadata": {},
   "outputs": [],
   "source": [
    "pv.set_jupyter_backend('ipyvtklink')\n",
    "# p = pv.Plotter()\n",
    "\n",
    "# p.add_mesh(trimesh)\n",
    "# p.add_mesh(trimesh.extract_feature_edges(), color='black')\n",
    "\n",
    "# p.show()"
   ]
  },
  {
   "cell_type": "markdown",
   "id": "eb44a5ac",
   "metadata": {},
   "source": [
    "Let's see if there are any open edges, so if the volume is watertight. Any open edges will be shown as red lines:"
   ]
  },
  {
   "cell_type": "code",
   "execution_count": 21,
   "id": "c0148343",
   "metadata": {},
   "outputs": [],
   "source": [
    "edges = trimesh.extract_feature_edges(boundary_edges=True,\n",
    "                           feature_edges=False,\n",
    "                           manifold_edges=False)\n",
    "\n",
    "# p = pv.Plotter()\n",
    "\n",
    "# p.add_mesh(trimesh, opacity=1.0, show_edges=True)\n",
    "# if trimesh.n_open_edges:\n",
    "#     p.add_mesh(edges, color='red', line_width=10)\n",
    "\n",
    "# p.add_title(f\"{obj} {'is watertight' if trimesh.n_open_edges == 0 else f'has {trimesh.n_open_edges} open edges'}\", 8)    \n",
    "\n",
    "# p.show()"
   ]
  },
  {
   "cell_type": "markdown",
   "id": "a124920c",
   "metadata": {},
   "source": [
    "We can now voxelize the mesh. If this is not watertight, we have to force the library to avoid checking for surfaces and the result might be slightly incorrent:"
   ]
  },
  {
   "cell_type": "code",
   "execution_count": 30,
   "id": "f32358cb",
   "metadata": {
    "scrolled": true
   },
   "outputs": [],
   "source": [
    "clean = dataset.clean()\n",
    "voxel = pv.voxelize(clean, density=clean.length/100, check_surface=False)\n",
    "# voxel.plot(show_edges=True, text=f\"[{obj}] Voxelized\")"
   ]
  },
  {
   "cell_type": "markdown",
   "id": "7e6d8326",
   "metadata": {},
   "source": [
    "Let's compare the voxelized volume against the actual one. This is an indication of the validity of the object:"
   ]
  },
  {
   "cell_type": "code",
   "execution_count": 25,
   "id": "5ab5e495",
   "metadata": {},
   "outputs": [
    {
     "name": "stdout",
     "output_type": "stream",
     "text": [
      "Voxel: 611.9989018404385\n",
      "Actual: 558.7495673036893\n"
     ]
    }
   ],
   "source": [
    "print(f\"Voxel: {voxel.volume}\")\n",
    "print(f\"Actual: {clean.volume}\")"
   ]
  },
  {
   "cell_type": "markdown",
   "id": "4219b046",
   "metadata": {},
   "source": [
    "We can extract the voxels centers to produce a grid of points for the mesh. This is slightly inconsistent, as some points are in and some outside of the object. This can be further cleaned later by computing the implicit distance of the points:"
   ]
  },
  {
   "cell_type": "code",
   "execution_count": 29,
   "id": "4b6eba9c",
   "metadata": {},
   "outputs": [],
   "source": [
    "# p = pv.Plotter()\n",
    "\n",
    "# p.add_mesh(voxel, opacity=0.2, show_edges=True, color='yellow')\n",
    "# p.add_mesh(voxel.cell_centers(), color='black')\n",
    "# p.add_mesh(clean, color='grey')\n",
    "# p.add_mesh(pv.PolyData(np.mean(voxel.cell_centers().points, axis=0)), color='white')\n",
    "\n",
    "# p.show()"
   ]
  },
  {
   "cell_type": "markdown",
   "id": "56ecfce1",
   "metadata": {},
   "source": [
    "The number of voxels is:"
   ]
  },
  {
   "cell_type": "code",
   "execution_count": 31,
   "id": "73fcb247",
   "metadata": {},
   "outputs": [
    {
     "data": {
      "text/plain": [
       "103296"
      ]
     },
     "execution_count": 31,
     "metadata": {},
     "output_type": "execute_result"
    }
   ],
   "source": [
    "clean = trimesh.clean()\n",
    "# clean.points -= np.mean(clean.points, axis=0)\n",
    "voxel = pv.voxelize(clean, density=clean.length/100, check_surface=False)\n",
    "voxel.n_cells"
   ]
  },
  {
   "cell_type": "markdown",
   "id": "e08b416d",
   "metadata": {},
   "source": [
    "## Compute the oriented bounding box\n",
    "\n",
    "... or object-aligned bounding box, or minimum bounding rectangle etc.\n",
    "\n",
    "We can compute this with a library we found on the web. The idea is that for buildings we can assume that an extruded 2D bounding box would work. So, let's do it in 2D first. This is the oriented bounding box:"
   ]
  },
  {
   "cell_type": "code",
   "execution_count": 33,
   "id": "a51e8b74",
   "metadata": {},
   "outputs": [
    {
     "data": {
      "text/plain": [
       "71.77807433667886"
      ]
     },
     "execution_count": 33,
     "metadata": {},
     "output_type": "execute_result"
    }
   ],
   "source": [
    "from helpers.minimumBoundingBox import MinimumBoundingBox\n",
    "\n",
    "obb_2d = MinimumBoundingBox([(p[0], p[1]) for p in dataset.clean().points])\n",
    "obb_2d.area"
   ]
  },
  {
   "cell_type": "markdown",
   "id": "2b7f5539",
   "metadata": {},
   "source": [
    "Now let's extrude this with `pyvista`:"
   ]
  },
  {
   "cell_type": "code",
   "execution_count": 34,
   "id": "eecff725",
   "metadata": {},
   "outputs": [
    {
     "name": "stderr",
     "output_type": "stream",
     "text": [
      "C:\\Users\\Panagiotior\\AppData\\Local\\Programs\\Python\\Python310\\lib\\site-packages\\pyvista\\core\\filters\\poly_data.py:2772: PyvistaFutureWarning: The default value of the ``capping`` keyword argument will change in a future version to ``True`` to match the behavior of VTK. We recommend passing the keyword explicitly to prevent future surprises.\n",
      "  warnings.warn(\n"
     ]
    }
   ],
   "source": [
    "ground_z = np.min(dataset.clean().points[:, 2])\n",
    "height = np.max(dataset.clean().points[:, 2]) - ground_z\n",
    "box = np.array([[p[0], p[1], ground_z] for p in list(obb_2d.corner_points)])\n",
    "\n",
    "obb = pv.PolyData(box).delaunay_2d()\n",
    "pts = obb.points\n",
    "\n",
    "t = np.mean(pts, axis=0)\n",
    "\n",
    "# We need to move the points to the origin before extruding due to VTK's precision issues\n",
    "obb.points = obb.points - t\n",
    "obb = obb.extrude([0.0, 0.0, height])\n",
    "obb.points = obb.points + t"
   ]
  },
  {
   "cell_type": "markdown",
   "id": "e9b98ef6",
   "metadata": {},
   "source": [
    "Let's see how the oriented bounding box fits with the object itself:"
   ]
  },
  {
   "cell_type": "code",
   "execution_count": 36,
   "id": "7df0cdae",
   "metadata": {},
   "outputs": [],
   "source": [
    "# p = pv.Plotter()\n",
    "\n",
    "# p.add_mesh(obb, opacity=0.3)\n",
    "# p.add_mesh(trimesh)\n",
    "\n",
    "# p.show()"
   ]
  },
  {
   "cell_type": "markdown",
   "id": "d10e4a0a",
   "metadata": {},
   "source": [
    "Sometimes the extruded volume produces a weird volume, so we have to fix it first:"
   ]
  },
  {
   "cell_type": "code",
   "execution_count": 31,
   "id": "493ebb29",
   "metadata": {},
   "outputs": [],
   "source": [
    "#requires pymesh\n",
    "# m = MeshFix(obb.clean().triangulate())\n",
    "# m.repair()\n",
    "# fixed_obb = m.mesh\n",
    "\n",
    "# fixed_obb.volume"
   ]
  },
  {
   "cell_type": "markdown",
   "id": "30839016",
   "metadata": {},
   "source": [
    "### Fully 3D oriented bounding box\n",
    "\n",
    "There is a library to compute the bounding box in 3D, but it's not very reliable. This is a small test here:"
   ]
  },
  {
   "cell_type": "code",
   "execution_count": 36,
   "id": "98932470",
   "metadata": {
    "scrolled": true
   },
   "outputs": [],
   "source": [
    "# from pyobb.obb import OBB\n",
    "\n",
    "# obb_full_3d = OBB.build_from_points(dataset.clean().points)"
   ]
  },
  {
   "cell_type": "markdown",
   "id": "e9cf6acc",
   "metadata": {},
   "source": [
    "### 2D oriented bounding box from `shapely`\n",
    "\n",
    "Similar to the previous library for 2D extrusion, we can compute the OBB using shapely. Let's extract a flattened version of the object and compute its *minimum rotated rectangle* (aka OBB):"
   ]
  },
  {
   "cell_type": "code",
   "execution_count": 37,
   "id": "0cd53bda",
   "metadata": {},
   "outputs": [
    {
     "data": {
      "image/svg+xml": [
       "<svg xmlns=\"http://www.w3.org/2000/svg\" xmlns:xlink=\"http://www.w3.org/1999/xlink\" width=\"100.0\" height=\"100.0\" viewBox=\"84446.83734949872 446449.56585689686 12.19942845904734 12.790069320530165\" preserveAspectRatio=\"xMinYMin meet\"><g transform=\"matrix(1,0,0,-1,0,892911.9217831143)\"><path fill-rule=\"evenodd\" fill=\"#66cc99\" stroke=\"#555555\" stroke-width=\"0.2558013864106033\" opacity=\"0.6\" d=\"M 84454.11340091686,446461.88221994624 L 84447.31105576985,446458.15039687237 L 84451.76072653962,446450.039563168 L 84458.56307168663,446453.7713862419 L 84454.11340091686,446461.88221994624 z\" /></g></svg>"
      ],
      "text/plain": [
       "<shapely.geometry.polygon.Polygon at 0x1f24cbbb1f0>"
      ]
     },
     "execution_count": 37,
     "metadata": {},
     "output_type": "execute_result"
    }
   ],
   "source": [
    "from cityjson import to_shapely\n",
    "\n",
    "obb_2d = to_shapely(building[\"geometry\"][0], vertices).minimum_rotated_rectangle\n",
    "obb_2d"
   ]
  },
  {
   "cell_type": "markdown",
   "id": "7177ca57",
   "metadata": {},
   "source": [
    "Now we can extrude (we wrote a function about this):"
   ]
  },
  {
   "cell_type": "code",
   "execution_count": 40,
   "id": "9d918661",
   "metadata": {},
   "outputs": [],
   "source": [
    "from geometry import extrude\n",
    "\n",
    "ground_z = np.min(dataset.clean().points[:, 2])\n",
    "roof_z = np.max(dataset.clean().points[:, 2])\n",
    "obb = extrude(obb_2d, ground_z, roof_z)\n",
    "\n",
    "# p = pv.Plotter()\n",
    "\n",
    "# p.add_mesh(obb, show_edges=True, opacity=0.3)\n",
    "# p.add_mesh(trimesh)\n",
    "\n",
    "# p.show()"
   ]
  },
  {
   "cell_type": "markdown",
   "id": "b394693f",
   "metadata": {},
   "source": [
    "Let's compare the volumes:"
   ]
  },
  {
   "cell_type": "code",
   "execution_count": 40,
   "id": "a359fedf",
   "metadata": {},
   "outputs": [],
   "source": [
    "#requires pymesh\n",
    "\n",
    "# m = MeshFix(obb.clean().triangulate())\n",
    "# m.repair()\n",
    "# fixed_obb = m.mesh\n",
    "\n",
    "# print(f\"Volume: {clean.volume}\")\n",
    "# print(f\"OBB: {obb.volume}\")\n",
    "\n",
    "# p = pv.Plotter()\n",
    "\n",
    "# p.add_mesh(obb.clean(), show_edges=True, opacity=0.3)\n",
    "# p.add_mesh(trimesh)\n",
    "\n",
    "# p.show()"
   ]
  },
  {
   "cell_type": "markdown",
   "id": "9746e2fc",
   "metadata": {},
   "source": [
    "## Compute shape metrics\n",
    "\n",
    "This is a banch of 2D and 3D metrics that can be used to describe a building:"
   ]
  },
  {
   "cell_type": "code",
   "execution_count": 45,
   "id": "4a05088b",
   "metadata": {},
   "outputs": [],
   "source": [
    "# #need to install miniball\n",
    "\n",
    "# from shapely.geometry import Point, MultiPoint, Polygon\n",
    "# import math\n",
    "# from tqdm.notebook import trange, tqdm\n",
    "# # import miniball\n",
    "\n",
    "# def create_grid_2d(shape, density):\n",
    "#     \"\"\"Return the grid for a given polygon\"\"\"\n",
    "    \n",
    "#     x_min, y_min, x_max, y_max = shape.bounds\n",
    "#     x = np.arange(x_min, x_max, density)\n",
    "#     y = np.arange(y_min, y_max, density)\n",
    "#     x, y = np.meshgrid(x, y)\n",
    "    \n",
    "#     x = np.hstack(x)\n",
    "#     y = np.hstack(y)\n",
    "    \n",
    "#     return [(x[i], y[i]) for i in range(len(x))]\n",
    "\n",
    "# def create_grid_3d(mesh, density, check_surface=False):\n",
    "#     \"\"\"Returns the grid for a given mesh\"\"\"\n",
    "#     voxel = pv.voxelize(mesh, density=density, check_surface=check_surface)\n",
    "    \n",
    "#     return voxel.cell_centers().points\n",
    "\n",
    "# def distance(x, y):\n",
    "#     \"\"\"Returns the euclidean distance between two points\"\"\"\n",
    "    \n",
    "#     return math.sqrt(sum([math.pow(x[c] - y[c], 2) for c in range(len(x))]))\n",
    "\n",
    "# def cohesion_2d(shape, grid=None, density=1):\n",
    "#     \"\"\"Returns the cohesion index in 2D for a given polygon\"\"\"\n",
    "    \n",
    "#     if grid is None:\n",
    "#         grid = create_grid_2d(shape, density)\n",
    "    \n",
    "#     if isinstance(grid, list):\n",
    "#         grid = MultiPoint(grid).intersection(shape)\n",
    "    \n",
    "#     d = 0\n",
    "#     for pi in tqdm(grid.geoms, desc=f\"Cohesion 2D (density={density})\"):\n",
    "#         for pj in grid.geoms:\n",
    "#             if pi == pj:\n",
    "#                 continue\n",
    "            \n",
    "#             d += pi.distance(pj)\n",
    "\n",
    "#     n = len(grid.geoms)\n",
    "#     return 0.9054 * math.sqrt(shape.area / math.pi) / (1 / (n * (n - 1)) * d)\n",
    "\n",
    "# def cohesion_3d(mesh, grid=None, density=1, check_surface=False):\n",
    "#     \"\"\"Returns the cohesion index in 3D for a given mesh\"\"\"\n",
    "    \n",
    "#     if grid is None:\n",
    "#         grid = create_grid_3d(density=density, check_surface=check_surface)\n",
    "    \n",
    "#     d = 0\n",
    "#     for pi in tqdm(grid, desc=f\"Cohesion 3D (density={density})\"):\n",
    "#         for pj in grid:\n",
    "#             d += distance(pi, pj)\n",
    "    \n",
    "    \n",
    "#     n = len(grid)\n",
    "#     return 36 / 35 * math.pow(3 * mesh.volume / (4 * math.pi), 1/3) / (1 / (n * (n - 1)) * d)\n",
    "\n",
    "# def proximity_2d(shape, density=1, grid=None):\n",
    "#     \"\"\"Returns the proximity index in 2D for a given polygon\"\"\"\n",
    "    \n",
    "#     if grid is None:\n",
    "#         grid = create_grid_2d(shape, density)\n",
    "    \n",
    "#     if isinstance(grid, list):\n",
    "#         grid = MultiPoint(grid).intersection(shape)\n",
    "        \n",
    "#     return grid\n",
    "    \n",
    "#     centroid = shape.centroid\n",
    "    \n",
    "#     return 2 / 3 * math.sqrt(shape.area / math.pi) / np.mean([centroid.distance(p) for p in grid])\n",
    "\n",
    "# def proximity_3d(mesh, grid=None, density=1, check_surface=False):\n",
    "#     \"\"\"Returns the cohesion index in 3D for a given mesh\"\"\"\n",
    "    \n",
    "#     if grid is None:\n",
    "#         grid = create_grid_3d(mesh, density=density, check_surface=check_surface)\n",
    "\n",
    "#     centroid = np.mean(grid, axis=0)\n",
    "    \n",
    "#     # TODO: Verify the formula here\n",
    "#     r = math.pow(3 * mesh.volume / (4 * math.pi), 1/3)\n",
    "\n",
    "#     return (3 * r / 4) / np.mean([distance(centroid, p) for p in grid])\n",
    "\n",
    "# def equal_volume_radius(volume):\n",
    "#     \"\"\"Returns the radius of the equal volume sphere\"\"\"\n",
    "    \n",
    "#     return math.pow(3 * volume / (4 * math.pi), 1/3)\n",
    "\n",
    "# def equal_volume_sphere(mesh, position=(0, 0, 0)):\n",
    "#     \"\"\"Returns the sphere that has the same volume as the given mesh\"\"\"\n",
    "    \n",
    "#     r = math.pow(3 * mesh.volume / (4 * math.pi), 1/3)\n",
    "    \n",
    "#     return pv.Sphere(radius=r, center=position)\n",
    "\n",
    "# def exchange_2d(shape):\n",
    "#     \"\"\"Returns the exchange index in 2D for a given polygon\"\"\"\n",
    "    \n",
    "#     r = math.sqrt(shape.area / math.pi)\n",
    "    \n",
    "#     eac = shape.centroid.buffer(r)\n",
    "    \n",
    "#     return shape.intersection(eac).area / shape.area\n",
    "\n",
    "# def exchange_3d(mesh, evs=None, density=0.25, engine=\"igl\"):\n",
    "#     \"\"\"Returns the exhange index in 3D for a given mesh\n",
    "    \n",
    "#     mesh: The pyvista mesh to evaluate\n",
    "#     evs: The equal volume sphere (if provided speeds up the calculation)\n",
    "#     density: If no evs is provided, it is used to create a grid to compute the center of mass\n",
    "#     enginge: The engine for the boolean operations\n",
    "#     \"\"\"\n",
    "    \n",
    "#     if evs is None:\n",
    "#         voxel = pv.voxelize(mesh, density=density)\n",
    "#         grid = voxel.cell_centers().points\n",
    "\n",
    "#         centroid = np.mean(grid, axis=0)\n",
    "#         evs = equal_volume_sphere(mesh, centroid)\n",
    "    \n",
    "#     pm_mesh = to_pymesh(mesh)\n",
    "#     pm_evs = to_pymesh(evs)\n",
    "    \n",
    "#     inter = pymesh.boolean(pm_mesh, pm_evs, operation=\"intersection\", engine=engine)\n",
    "    \n",
    "#     return inter.volume / mesh.volume\n",
    "\n",
    "# def spin_2d(shape, grid=None, density=1):\n",
    "#     if grid is None:\n",
    "#         grid = create_grid_2d(shape, density)\n",
    "    \n",
    "#     if isinstance(grid, list):\n",
    "#         grid = MultiPoint(grid).intersection(shape)\n",
    "    \n",
    "#     centroid = shape.centroid\n",
    "    \n",
    "#     return 0.5 * (shape.area / math.pi) / np.mean([math.pow(centroid.distance(p), 2) for p in grid])\n",
    "\n",
    "# def spin_3d(mesh, grid=None, density=1, check_surface=False):\n",
    "#     \"\"\"Returns the cohesion index in 3D for a given mesh\"\"\"\n",
    "    \n",
    "#     if grid is None:\n",
    "#         voxel = pv.voxelize(mesh, density=density, check_surface=check_surface)\n",
    "#         grid = voxel.cell_centers().points\n",
    "    \n",
    "#     centroid = np.mean(grid, axis=0)\n",
    "    \n",
    "#     r = math.pow(3 * mesh.volume / (4 * math.pi), 1/3)\n",
    "#     # TODO: Calculate the actual formula here\n",
    "#     return 3 / 5 * math.pow(r, 2) / np.mean([math.pow(distance(centroid, p), 2) for p in grid])\n",
    "\n",
    "# def perimeter_index(shape):\n",
    "#     return 2 * math.sqrt(math.pi * shape.area) / shape.length\n",
    "\n",
    "# def circumference_index_3d(mesh):\n",
    "#     return 4 * math.pi * math.pow(3 * mesh.volume / (4 * math.pi), 2 / 3) / mesh.area\n",
    "    \n",
    "# def depth_2d(shape, grid=None, density=1):\n",
    "#     if grid is None:\n",
    "#         grid = create_grid_2d(shape, density)\n",
    "    \n",
    "#     if isinstance(grid, list):\n",
    "#         grid = MultiPoint(grid).intersection(shape)\n",
    "        \n",
    "#     return 3 * np.mean([p.distance(shape.boundary) for p in grid]) / math.sqrt(shape.area / math.pi)\n",
    "\n",
    "# def depth_3d(mesh, grid=None, density=1, check_surface=False):\n",
    "#     \"\"\"Returns the depth index in 3D for a given mesh\"\"\"\n",
    "    \n",
    "#     if grid is None:\n",
    "#         voxel = pv.voxelize(mesh, density=density, check_surface=check_surface)\n",
    "#         grid = voxel.cell_centers()\n",
    "        \n",
    "#     dist = grid.compute_implicit_distance(mesh)\n",
    "    \n",
    "#     r = math.pow(3 * mesh.volume / (4 * math.pi), 1/3)\n",
    "#     return 4 * np.mean(np.absolute(dist[\"implicit_distance\"])) / r\n",
    "\n",
    "# from polylabel import polylabel\n",
    "\n",
    "# def largest_inscribed_circle(shape):\n",
    "#     \"\"\"Returns the largest inscribed circle of a polygon in 2D\"\"\"\n",
    "\n",
    "#     centre, r = polylabel([list([list(c)[:2] for c in shape.boundary.coords])], with_distance=True)  # ([0.5, 0.5], 0.5)\n",
    "\n",
    "#     lic = Point(centre).buffer(r)\n",
    "    \n",
    "#     return lic\n",
    "\n",
    "# def largest_inscribed_sphere(mesh, grid=None, density=1, check_surface=False):\n",
    "#     \"\"\"Returns the largest inscribed sphere of a mesh in 3D\"\"\"\n",
    "    \n",
    "#     if grid is None:\n",
    "#         voxel = pv.voxelize(mesh, density=density, check_surface=check_surface)\n",
    "#         grid = voxel.cell_centers()\n",
    "    \n",
    "#     if not isinstance(grid, pv.PolyData):\n",
    "#         grid = pv.PolyData(grid)\n",
    "        \n",
    "#     dist = grid.compute_implicit_distance(mesh)\n",
    "    \n",
    "#     # The largest inscribed circle's radius is the largest (internal) distance,\n",
    "#     # hence the lowest value (as internal distance is negative)\n",
    "#     lis_radius = np.min(dist[\"implicit_distance\"])\n",
    "#     lis_center = dist.points[np.where(dist[\"implicit_distance\"] == lis_radius)][0]\n",
    "    \n",
    "#     return pv.Sphere(center=lis_center, radius=abs(lis_radius))\n",
    "\n",
    "# def girth_2d(shape):\n",
    "#     \"\"\"Return the girth index in 2D for a given polygon\"\"\"\n",
    "    \n",
    "#     lic = largest_inscribed_circle(shape)\n",
    "    \n",
    "#     # Compute the radius as half the bounding box width\n",
    "#     r = (lic.bounds[2] - lic.bounds[0]) / 2\n",
    "    \n",
    "#     return r / math.sqrt(shape.area / math.pi)\n",
    "\n",
    "# def girth_3d(mesh, grid=None, density=1, check_surface=False):\n",
    "#     \"\"\"Return the girth index in 3D for a given mesh\"\"\"\n",
    "    \n",
    "#     lis = largest_inscribed_sphere(mesh,\n",
    "#                                    grid=grid,\n",
    "#                                    density=density,\n",
    "#                                    check_surface=check_surface)\n",
    "    \n",
    "#     r = (lis.bounds[1] - lis.bounds[0]) / 2\n",
    "#     r_evs = math.pow(3 * mesh.volume / (4 * math.pi), 1/3)\n",
    "    \n",
    "#     return r / r_evs\n",
    "\n",
    "# def range_2d(shape):\n",
    "#     \"\"\"Returns the range index in 2D for a given polygon\"\"\"\n",
    "    \n",
    "#     from helpers.smallestenclosingcircle import make_circle\n",
    "\n",
    "#     x, y, r = make_circle([c[:2] for c in  shape.boundary.coords])\n",
    "    \n",
    "#     return math.sqrt(shape.area / math.pi) / r\n",
    "\n",
    "# import math\n",
    "\n",
    "# def range_3d(mesh):\n",
    "#     \"\"\"Returns the range index in 3D for a given mesh\"\"\"\n",
    "    \n",
    "#     _, r2 = miniball.get_bounding_ball(mesh.points)\n",
    "    \n",
    "#     r_scc = math.sqrt(r2)\n",
    "    \n",
    "#     V = mesh.volume\n",
    "    \n",
    "#     return math.pow(3 * V / (4 * math.pi), 1/3) / r_scc\n",
    "\n",
    "fp = to_shapely(building[\"geometry\"][0], vertices)\n",
    "\n",
    "# def print_stats(shape, mesh, density_2d=1, density_3d=2, check_surface=True):\n",
    "#     \"\"\"Computes and prints all stats for a geometry\"\"\"\n",
    "    \n",
    "#     # Compute the grid for the given mesh\n",
    "#     voxel = pv.voxelize(mesh, density=density_3d, check_surface=check_surface)\n",
    "#     grid = voxel.cell_centers().points\n",
    "    \n",
    "# #     print(f\"Cohesion | {cohesion_2d(shape):.5f} | {cohesion_3d(mesh, grid):.5f}\")\n",
    "#     print(f\"Proximity | {proximity_2d(shape, density=density_2d):.5f} | {proximity_3d(mesh, grid):.5f}\")\n",
    "#     print(f\"Exchange | {exchange_2d(shape):.5f} | {exchange_3d(mesh, density=density_3d):.5f}\")\n",
    "#     print(f\"Spin | {spin_2d(shape, density=density_2d):.5f} | {spin_3d(mesh, grid):.5f}\")\n",
    "#     print(f\"Perimeter/Circumference | {perimeter_index(shape):.5f} | {circumference_index_3d(mesh):.5f} \")\n",
    "#     print(f\"Depth | {depth_2d(shape, density=density_2d):.5f} | {depth_3d(mesh, density=density_3d):.5f} \")\n",
    "#     print(f\"Girth | {girth_2d(shape):.5f} | {girth_3d(mesh, grid):.5f}\")\n",
    "#     print(f\"Dispersion | {dispersion_2d(shape, density=density_2d):.5f} | {dispersion_3d(mesh, grid, density=density_3d):0.5f}\")\n",
    "#     print(f\"Range | {range_2d(shape):.5f} | {range_3d(mesh):.5f}\")\n",
    "#     print(f\"Roughness index | {roughness_index_2d(shape, density_2d)} | {roughness_index_3d(mesh, grid, density_2d)}\")\n",
    "\n",
    "# # print_stats(fp, clean)\n",
    "# # print_stats(shapely.geometry.Point(0, 0).buffer(10), pv.Sphere(10), density_3d=pv.Sphere(10).length/50)\n",
    "# # spin_3d(evs, density=0.25)\n",
    "# # roughness_index_3d(dataset)\n",
    "# # print_stats(fp, dataset)"
   ]
  },
  {
   "cell_type": "code",
   "execution_count": 41,
   "id": "68f0dbb5",
   "metadata": {},
   "outputs": [],
   "source": [
    "# obb_pts = list(fp.minimum_rotated_rectangle.boundary.coords)\n",
    "\n",
    "# S = Point(obb_pts[1]).distance(Point(obb_pts[0]))\n",
    "# L = Point(obb_pts[2]).distance(Point(obb_pts[1]))\n",
    "\n",
    "# if S > L:\n",
    "#     L, S = S, L\n",
    "\n",
    "# 1 - S / L"
   ]
  },
  {
   "cell_type": "markdown",
   "id": "9818ab42",
   "metadata": {},
   "source": [
    "This is our own implementation on creating a grid that wraps the surface of a mesh:"
   ]
  },
  {
   "cell_type": "code",
   "execution_count": 48,
   "id": "51a3c974",
   "metadata": {
    "scrolled": false
   },
   "outputs": [],
   "source": [
    "# from helpers.geometry import surface_normal\n",
    "# from shapely.geometry import Polygon\n",
    "\n",
    "# def to_3d(points, normal, origin):\n",
    "#     \"\"\"Translate local 2D coordinates to 3D\"\"\"\n",
    "    \n",
    "#     x_axis, y_axis = axes_of_normal(normal)\n",
    "  \n",
    "#     return (np.repeat([origin], len(points), axis=0)\n",
    "#         + np.matmul(points, [x_axis, y_axis]))    \n",
    "\n",
    "# def axes_of_normal(normal):\n",
    "#     \"\"\"Returns an x-axis and y-axis on a plane of the given normal\"\"\"\n",
    "#     if normal[2] > 0.001 or normal[2] < -0.001:\n",
    "#         x_axis = [1, 0, -normal[0]/normal[2]];\n",
    "#     elif normal[1] > 0.001 or normal[1] < -0.001:\n",
    "#         x_axis = [1, -normal[0]/normal[1], 0];\n",
    "#     else:\n",
    "#         x_axis = [-normal[1] / normal[0], 1, 0];\n",
    "    \n",
    "#     x_axis = x_axis / np.linalg.norm(x_axis)\n",
    "#     y_axis = np.cross(normal, x_axis)\n",
    "\n",
    "#     return x_axis, y_axis\n",
    "\n",
    "# def project_2d(points, normal):\n",
    "#     origin = points[0]\n",
    "\n",
    "#     x_axis, y_axis = axes_of_normal(normal)\n",
    "     \n",
    "#     return [[np.dot(p - origin, x_axis), np.dot(p - origin, y_axis)] for p in points]\n",
    "\n",
    "# def create_surface_grid(mesh, density=1):\n",
    "#     \"\"\"Create a 2-dimensional grid along the surface of a 3D mesh\"\"\"\n",
    "    \n",
    "#     result = []\n",
    "    \n",
    "#     sized = mesh.compute_cell_sizes()\n",
    "    \n",
    "#     for i in range(mesh.n_cells):\n",
    "#         if not mesh.cell_type(i) in [5, 6, 7, 9, 10]:\n",
    "#             continue\n",
    "        \n",
    "#         pts = mesh.cell_points(i)\n",
    "        \n",
    "#         normal = surface_normal(pts)\n",
    "        \n",
    "#         pts_2d = project_2d(pts, normal)\n",
    "#         poly_2d = Polygon(pts_2d)\n",
    "        \n",
    "#         grid = create_grid_2d(poly_2d, density)\n",
    "#         grid = MultiPoint(grid).intersection(poly_2d)\n",
    "        \n",
    "#         if grid.is_empty:\n",
    "#             continue\n",
    "#         elif grid.geom_type == \"Point\":\n",
    "#             grid = np.array(grid.coords)\n",
    "#         else:\n",
    "#             grid = np.array([list(p.coords[0]) for p in grid.geoms])\n",
    "        \n",
    "#         # TODO: Randomise the origin\n",
    "#         result.extend(list(to_3d(grid, normal, pts[0])))\n",
    "            \n",
    "#     return result\n",
    "\n",
    "# s_grid = pv.PolyData(create_surface_grid(trimesh, 1))\n",
    "\n",
    "# p = pv.Plotter()\n",
    "\n",
    "# p.add_mesh(dataset, opacity=0.9)\n",
    "# # p.add_mesh(clean.extract_cells(82))\n",
    "# p.add_mesh(s_grid)\n",
    "\n",
    "# p.show()"
   ]
  },
  {
   "cell_type": "code",
   "execution_count": 42,
   "id": "e2d9b73d",
   "metadata": {},
   "outputs": [
    {
     "ename": "ValueError",
     "evalue": "No normal. Possible colinear points!",
     "output_type": "error",
     "traceback": [
      "\u001b[1;31m---------------------------------------------------------------------------\u001b[0m",
      "\u001b[1;31mValueError\u001b[0m                                Traceback (most recent call last)",
      "Input \u001b[1;32mIn [42]\u001b[0m, in \u001b[0;36m<cell line: 21>\u001b[1;34m()\u001b[0m\n\u001b[0;32m     17\u001b[0m     normalised \u001b[38;5;241m=\u001b[39m [i\u001b[38;5;241m/\u001b[39mnp\u001b[38;5;241m.\u001b[39mlinalg\u001b[38;5;241m.\u001b[39mnorm(n) \u001b[38;5;28;01mfor\u001b[39;00m i \u001b[38;5;129;01min\u001b[39;00m n]\n\u001b[0;32m     19\u001b[0m     \u001b[38;5;28;01mreturn\u001b[39;00m normalised\n\u001b[1;32m---> 21\u001b[0m \u001b[43msurface_normal\u001b[49m\u001b[43m(\u001b[49m\u001b[43mpts\u001b[49m\u001b[43m)\u001b[49m\n",
      "Input \u001b[1;32mIn [42]\u001b[0m, in \u001b[0;36msurface_normal\u001b[1;34m(poly)\u001b[0m\n\u001b[0;32m     12\u001b[0m     n[\u001b[38;5;241m2\u001b[39m] \u001b[38;5;241m+\u001b[39m\u001b[38;5;241m=\u001b[39m (v_curr[\u001b[38;5;241m0\u001b[39m] \u001b[38;5;241m-\u001b[39m v_next[\u001b[38;5;241m0\u001b[39m]) \u001b[38;5;241m*\u001b[39m (v_curr[\u001b[38;5;241m1\u001b[39m] \u001b[38;5;241m+\u001b[39m v_next[\u001b[38;5;241m1\u001b[39m])\n\u001b[0;32m     14\u001b[0m     \u001b[38;5;28;01mif\u001b[39;00m \u001b[38;5;28mall\u001b[39m([c \u001b[38;5;241m==\u001b[39m \u001b[38;5;241m0\u001b[39m \u001b[38;5;28;01mfor\u001b[39;00m c \u001b[38;5;129;01min\u001b[39;00m n]):\n\u001b[1;32m---> 15\u001b[0m         \u001b[38;5;28;01mraise\u001b[39;00m \u001b[38;5;167;01mValueError\u001b[39;00m(\u001b[38;5;124m\"\u001b[39m\u001b[38;5;124mNo normal. Possible colinear points!\u001b[39m\u001b[38;5;124m\"\u001b[39m)\n\u001b[0;32m     17\u001b[0m normalised \u001b[38;5;241m=\u001b[39m [i\u001b[38;5;241m/\u001b[39mnp\u001b[38;5;241m.\u001b[39mlinalg\u001b[38;5;241m.\u001b[39mnorm(n) \u001b[38;5;28;01mfor\u001b[39;00m i \u001b[38;5;129;01min\u001b[39;00m n]\n\u001b[0;32m     19\u001b[0m \u001b[38;5;28;01mreturn\u001b[39;00m normalised\n",
      "\u001b[1;31mValueError\u001b[0m: No normal. Possible colinear points!"
     ]
    }
   ],
   "source": [
    "pts = [[1138.221, 340727.568, 36.900],\n",
    " [1138.221, 340727.538, 36.900],\n",
    " [1138.221, 340727.508, 36.900]]\n",
    "\n",
    "def surface_normal(poly):\n",
    "    n = [0.0, 0.0, 0.0]\n",
    "\n",
    "    for i, v_curr in enumerate(poly):\n",
    "        v_next = poly[(i+1) % len(poly)]\n",
    "        n[0] += (v_curr[1] - v_next[1]) * (v_curr[2] + v_next[2])\n",
    "        n[1] += (v_curr[2] - v_next[2]) * (v_curr[0] + v_next[0])\n",
    "        n[2] += (v_curr[0] - v_next[0]) * (v_curr[1] + v_next[1])\n",
    "    \n",
    "        if all([c == 0 for c in n]):\n",
    "            raise ValueError(\"No normal. Possible colinear points!\")\n",
    "\n",
    "    normalised = [i/np.linalg.norm(n) for i in n]\n",
    "\n",
    "    return normalised\n",
    "\n",
    "surface_normal(pts)"
   ]
  },
  {
   "cell_type": "code",
   "execution_count": 51,
   "id": "a351d1a9",
   "metadata": {},
   "outputs": [],
   "source": [
    "#need handcalcs\n",
    "# def dispersion_2d(shape, density=0.2):\n",
    "#     \"\"\"Returns the dispersion index in 2d for a given polygon\"\"\"\n",
    "    \n",
    "#     c = shape.centroid\n",
    "#     b = shape.boundary\n",
    "    \n",
    "#     r = math.sqrt(shape.area / math.pi)\n",
    "    \n",
    "#     r_dev = 0\n",
    "#     r_ibp = 0\n",
    "#     for l in np.arange(0, b.length, density):\n",
    "#         p = b.interpolate(l)\n",
    "        \n",
    "#         r_dev += abs(p.distance(c) - r)\n",
    "#         r_ibp += p.distance(c)\n",
    "    \n",
    "#     return 1 - (r_dev / r_ibp)\n",
    "\n",
    "# from handcalcs import handcalc\n",
    "\n",
    "# # @handcalc()\n",
    "# def dispersion_3d(mesh, grid, density=0.5):\n",
    "#     \"\"\"Returns the dispersion index in 3d for a given mesh\"\"\"\n",
    "    \n",
    "#     centroid = np.mean(grid, axis=0)\n",
    "    \n",
    "#     s_grid = create_surface_grid(mesh, density)\n",
    "    \n",
    "#     r = equal_volume_radius(mesh.volume)\n",
    "    \n",
    "#     r_dev = 0\n",
    "#     r_ibp = 0\n",
    "#     for p in s_grid:\n",
    "#         d_i = distance(centroid, p)\n",
    "#         r_dev += abs(d_i - r)\n",
    "#         r_ibp += d_i\n",
    "\n",
    "#     return 1 - (r_dev / r_ibp)\n",
    "\n",
    "# # voxel = pv.voxelize(dataset, density=0.5, check_surface=False)\n",
    "# # grid = voxel.cell_centers().points\n",
    "# # dispersion_3d(dataset, grid)"
   ]
  },
  {
   "cell_type": "code",
   "execution_count": 53,
   "id": "868feaf9",
   "metadata": {},
   "outputs": [],
   "source": [
    "# def roughness_index_2d(shape, density=0.2):\n",
    "#     c = shape.centroid\n",
    "#     b = shape.boundary\n",
    "        \n",
    "#     r_ibp = 0\n",
    "#     for l in np.arange(0, b.length, density):\n",
    "#         p = b.interpolate(l)\n",
    "        \n",
    "#         r_ibp += p.distance(c)\n",
    "    \n",
    "#     m_r = r_ibp / math.floor(b.length / density)\n",
    "    \n",
    "#     return 42.62 * math.pow(m_r, 2) / (shape.area + math.pow(shape.length, 2))\n",
    "\n",
    "# def roughness_index_3d(mesh, grid, density=0.5):\n",
    "#     centroid = np.mean(grid, axis=0)\n",
    "        \n",
    "#     s_grid = create_surface_grid(mesh, density)\n",
    "        \n",
    "#     r_ibp = 0\n",
    "#     for p in s_grid:\n",
    "#         d_i = distance(centroid, p)\n",
    "#         r_ibp += d_i\n",
    "    \n",
    "#     m_r = r_ibp / len(s_grid)\n",
    "    \n",
    "#     return 48.735 * math.pow(m_r, 3) / (mesh.volume + math.pow(mesh.area, 3/2))\n",
    "\n",
    "# mmm = dataset\n",
    "# voxel = pv.voxelize(mmm, density=0.5, check_surface=False)\n",
    "# grid = voxel.cell_centers().points\n",
    "# roughness_index_3d(mmm, grid, density=0.2)"
   ]
  },
  {
   "cell_type": "markdown",
   "id": "afb64563",
   "metadata": {},
   "source": [
    "Compute the minimum bounding sphere of the building:"
   ]
  },
  {
   "cell_type": "code",
   "execution_count": 55,
   "id": "53a8de2d",
   "metadata": {},
   "outputs": [],
   "source": [
    "# import miniball\n",
    "# C, r2 = miniball.get_bounding_ball(clean.clean().points)\n",
    "\n",
    "# print(r2)\n",
    "# print(clean.bounds)\n",
    "\n",
    "# p = pv.Plotter()\n",
    "\n",
    "# p.add_mesh(clean)\n",
    "# # p.add_mesh(clean.extract_cells(82))\n",
    "# p.add_mesh(pv.Sphere(radius=math.sqrt(r2), center=C), opacity=0.2)\n",
    "\n",
    "# p.show()"
   ]
  },
  {
   "cell_type": "markdown",
   "id": "91596ce6",
   "metadata": {},
   "source": [
    "Compute the largest inscribed sphere. This is based on creating a grid of a certain density and then picking the interior point of the largest distance from the boundaries (after computing the implicit distance):"
   ]
  },
  {
   "cell_type": "code",
   "execution_count": 57,
   "id": "35f9047d",
   "metadata": {},
   "outputs": [],
   "source": [
    "# p = pv.Plotter()\n",
    "\n",
    "# p.add_mesh(clean, opacity=0.2)\n",
    "# p.add_mesh(largest_inscribed_sphere(clean, density=0.5))\n",
    "\n",
    "# p.show()"
   ]
  },
  {
   "cell_type": "markdown",
   "id": "4733446a",
   "metadata": {},
   "source": [
    "## Playing with `pymesh`\n",
    "\n",
    "Since `pyvista` is unreliable regarding boolean operations, this is how to convert to/from `pymesh` to do operations. `pymesh` is harder to install (see [here](https://pymesh.readthedocs.io/en/latest/installation.html)) but the result seems to be robust:"
   ]
  },
  {
   "cell_type": "code",
   "execution_count": 59,
   "id": "3200f83a",
   "metadata": {},
   "outputs": [],
   "source": [
    "# import pymesh\n",
    "\n",
    "# def to_pymesh(mesh):\n",
    "#     \"\"\"Returns a pymesh from a pyvista PolyData\"\"\"\n",
    "#     v = mesh.points\n",
    "#     f = mesh.faces.reshape(-1, 4)[:, 1:]\n",
    "\n",
    "#     return pymesh.form_mesh(v, f)\n",
    "\n",
    "# def to_pyvista(mesh):\n",
    "#     \"\"\"Return a PolyData from a pymesh\"\"\"\n",
    "#     if len(mesh.vertices) == 0:\n",
    "#         return pv.PolyData()\n",
    "    \n",
    "#     v = mesh.vertices\n",
    "#     f = mesh.faces\n",
    "    \n",
    "#     f = np.hstack([[len(f)] + list(f) for f in mesh.faces])\n",
    "    \n",
    "#     return pv.PolyData(v, f, len(mesh.faces))\n",
    "\n",
    "# evs = equal_volume_sphere(clean, position=np.mean(clean.points, axis=0))\n",
    "\n",
    "# clean_pm = to_pymesh(clean)\n",
    "# evs_pm = to_pymesh(evs)\n",
    "\n",
    "# p = pv.Plotter()\n",
    "\n",
    "# p.add_mesh(clean)\n",
    "# p.add_mesh(evs)\n",
    "\n",
    "# p.show()"
   ]
  },
  {
   "cell_type": "code",
   "execution_count": 60,
   "id": "486439d2",
   "metadata": {},
   "outputs": [],
   "source": [
    "# inter = pymesh.boolean(clean_pm, evs_pm, operation=\"intersection\", engine=\"igl\")"
   ]
  },
  {
   "cell_type": "code",
   "execution_count": 61,
   "id": "6c8ee86f",
   "metadata": {},
   "outputs": [],
   "source": [
    "# p = pv.Plotter()\n",
    "\n",
    "# p.add_mesh(evs, opacity=0.2, color='yellow')\n",
    "# p.add_mesh(to_pyvista(inter), color='blue', show_edges=True)\n",
    "\n",
    "# p.show()"
   ]
  },
  {
   "cell_type": "markdown",
   "id": "921b4f84",
   "metadata": {},
   "source": [
    "# Checking common walls between buildings"
   ]
  },
  {
   "cell_type": "code",
   "execution_count": 44,
   "id": "13effd13",
   "metadata": {},
   "outputs": [
    {
     "data": {
      "application/vnd.jupyter.widget-view+json": {
       "model_id": "b7ad83535ec942aca48b1b4f4bde545a",
       "version_major": 2,
       "version_minor": 0
      },
      "text/plain": [
       "ViewInteractiveWidget(height=768, layout=Layout(height='auto', width='100%'), width=1024)"
      ]
     },
     "metadata": {},
     "output_type": "display_data"
    }
   ],
   "source": [
    "building1 = cm[\"CityObjects\"][\"NL.IMBAG.Pand.0503100000019778-0\"]\n",
    "\n",
    "trimesh1 = cityjson.to_triangulated_polydata(building1[\"geometry\"][0], vertices).clean()\n",
    "\n",
    "building2 = cm[\"CityObjects\"][\"NL.IMBAG.Pand.0503100000018582-0\"]\n",
    "\n",
    "trimesh2 = cityjson.to_triangulated_polydata(building2[\"geometry\"][0], vertices).clean()\n",
    "\n",
    "p = pv.Plotter()\n",
    "\n",
    "p.add_mesh(trimesh1, color=\"yellow\")\n",
    "p.add_mesh(trimesh2, color=\"red\")\n",
    "\n",
    "# trimesh1.extract_cells(range(27, 29))\n",
    "\n",
    "p.show()"
   ]
  },
  {
   "cell_type": "code",
   "execution_count": 64,
   "id": "fbbb4cc2",
   "metadata": {
    "scrolled": false
   },
   "outputs": [],
   "source": [
    "# m1 = to_pymesh(trimesh1)\n",
    "# m2 = to_pymesh(trimesh2)\n",
    "\n",
    "# wall = pymesh.boolean(m1, m2, operation=\"intersection\", engine=\"igl\")\n",
    "\n",
    "# to_pyvista(wall)"
   ]
  },
  {
   "cell_type": "code",
   "execution_count": 65,
   "id": "4886e5f6",
   "metadata": {},
   "outputs": [],
   "source": [
    "# t1 = pv.PolyData([[0,0,0],[0,1,0],[1,0,0]], faces=[3, 0, 1, 2])\n",
    "# t2 = pv.PolyData([[0,0,0],[0,1,0],[1,0,0]], faces=[3, 0, 1, 2])\n",
    "\n",
    "# m1 = to_pymesh(trimesh1)\n",
    "# m2 = to_pymesh(trimesh2)\n",
    "\n",
    "# wall = pymesh.boolean(m1, m2, operation=\"intersection\", engine=\"igl\")\n",
    "\n",
    "# to_pyvista(wall)"
   ]
  },
  {
   "cell_type": "code",
   "execution_count": 45,
   "id": "dc1c7769",
   "metadata": {},
   "outputs": [
    {
     "data": {
      "application/vnd.jupyter.widget-view+json": {
       "model_id": "19d2c66933684783b91517b0a3a8c2e8",
       "version_major": 2,
       "version_minor": 0
      },
      "text/plain": [
       "ViewInteractiveWidget(height=768, layout=Layout(height='auto', width='100%'), width=1024)"
      ]
     },
     "metadata": {},
     "output_type": "display_data"
    }
   ],
   "source": [
    "from helpers.geometry import surface_normal, project_2d, axes_of_normal\n",
    "from shapely.geometry import MultiPolygon, Polygon\n",
    "import scipy\n",
    "from sklearn.cluster import AgglomerativeClustering\n",
    "\n",
    "def is_on_plane(point, normal, origin):\n",
    "    a, b, c, d = get_plane_params(normal, origin)\n",
    "    \n",
    "    x, y, z = point\n",
    "    \n",
    "    return a * x + b * y + c * z + d == 0\n",
    "\n",
    "# intersect_surfaces(trimesh1, trimesh2)\n",
    "\n",
    "def plane_params(normal, origin, rounding=2, absolute=True):\n",
    "    \"\"\"Returns the params (a, b, c, d) of the plane equation\"\"\"\n",
    "    a, b, c = np.round_(normal, 3)\n",
    "    x0, y0, z0 = origin\n",
    "    \n",
    "    d = -(a * x0 + b * y0 + c * z0)\n",
    "    \n",
    "    if rounding >= 0:\n",
    "        d = round(d, rounding)\n",
    "    \n",
    "    return np.array([a, b, c, d])\n",
    "\n",
    "def face_planes(mesh):\n",
    "    # face normals compute face normals for meshes ? \n",
    "    return [plane_params(mesh.face_normals[i], mesh.cell_points(i)[0]) for i in range(mesh.n_cells)]\n",
    "\n",
    "def project_mesh(mesh, normal, origin):\n",
    "    p = []\n",
    "    for i in range(mesh.n_cells):\n",
    "        pts = mesh.cell_points(i)\n",
    "        \n",
    "        pts_2d = project_2d(pts, normal, origin)\n",
    "        \n",
    "        p.append(Polygon(pts_2d))\n",
    "    \n",
    "    return MultiPolygon(p).buffer(0)\n",
    "\n",
    "def to_3d(polygon, normal, origin):\n",
    "    xa, ya = axes_of_normal(normal)\n",
    "    \n",
    "    mat = np.array([xa, ya])\n",
    "    pts = np.array(polygon.boundary.coords)\n",
    "    \n",
    "    return np.dot(pts, mat) + origin\n",
    "\n",
    "def cluster_faces(data, threshold=0.1):\n",
    "#     distance_matrix = np.asarray([\n",
    "#         [abs_distance(data[first_index], data[second_index]) \n",
    "#              for first_index in range(len(data))] \n",
    "#                  for second_index in range(len(data))])\n",
    "    ndata = np.array(data)\n",
    "    \n",
    "    dm1 = scipy.spatial.distance_matrix(ndata, ndata)\n",
    "    dm2 = scipy.spatial.distance_matrix(ndata, -ndata)\n",
    "\n",
    "    distance_matrix = np.minimum(dm1, dm2)\n",
    "\n",
    "    clustering = AgglomerativeClustering(n_clusters=None, distance_threshold=threshold, affinity='precomputed', linkage='average').fit(distance_matrix)\n",
    "    \n",
    "    return clustering.labels_, clustering.n_clusters_\n",
    "\n",
    "def cluster_meshes(meshes, threshold=0.1):\n",
    "    \"\"\"Clusters the faces of the given meshes\"\"\"\n",
    "    \n",
    "    n_meshes = len(meshes)\n",
    "    \n",
    "    # Compute the \"absolute\" plane params for every face of the two meshes\n",
    "    planes = [face_planes(mesh) for mesh in meshes]\n",
    "    mesh_ids = [[m for _ in range(meshes[m].n_cells)] for m in range(n_meshes)]\n",
    "    \n",
    "    # Find the common planes between the two faces\n",
    "    all_planes = np.concatenate(planes)\n",
    "    all_labels, n_clusters = cluster_faces(all_planes, threshold)\n",
    "    areas = []\n",
    "    \n",
    "    labels = np.array_split(all_labels, [meshes[m].n_cells for m in range(n_meshes - 1)])\n",
    "    \n",
    "    return labels, n_clusters\n",
    "\n",
    "def intersect_surfaces(meshes):\n",
    "    \"\"\"Return the intersection between the surfaces of multiple meshes\"\"\"\n",
    "    \n",
    "    n_meshes = len(meshes)\n",
    "    \n",
    "    areas = []\n",
    "    \n",
    "    labels, n_clusters = cluster_meshes(meshes)\n",
    "    \n",
    "    for plane in range(n_clusters):\n",
    "        # For every common plane, extract the faces that belong to it\n",
    "        idxs = [[i for i, p in enumerate(labels[m]) if p == plane] for m in range(n_meshes)]\n",
    "                \n",
    "        if any([len(idx) == 0 for idx in idxs]):\n",
    "            continue\n",
    "        \n",
    "        msurfaces = [mesh.extract_cells(idxs[i]).extract_surface() for i, mesh in enumerate(meshes)]\n",
    "                \n",
    "        # Set the normal and origin point for a plane to project the faces\n",
    "        origin = msurfaces[0].clean().points[0]\n",
    "        normal = msurfaces[0].face_normals[0]\n",
    "        \n",
    "        # Create the two 2D polygons by projecting the faces\n",
    "        polys = [project_mesh(msurface, normal, origin) for msurface in msurfaces]\n",
    "        \n",
    "        # Intersect the 2D polygons\n",
    "        inter = polys[0]\n",
    "        for i in range(1, len(polys)):\n",
    "            inter = inter.intersection(polys[i])\n",
    "        \n",
    "        if inter.area > 0.001:\n",
    "            if inter.type == \"MultiPolygon\":\n",
    "                for geom in inter.geoms:\n",
    "                    pts = to_3d(geom, normal, origin)\n",
    "                    common_mesh = pv.PolyData(pts, faces=[len(pts)] + list(range(len(pts))))\n",
    "                    common_mesh[\"area\"] = [geom.area]\n",
    "                    areas.append(common_mesh)\n",
    "            else:\n",
    "                pts = to_3d(inter, normal, origin)\n",
    "                common_mesh = pv.PolyData(pts, faces=[len(pts)] + list(range(len(pts))))\n",
    "                common_mesh[\"area\"] = [inter.area]\n",
    "                areas.append(common_mesh)\n",
    "    \n",
    "    return areas\n",
    "\n",
    "def intersect_pairs(mesh, neighbours):\n",
    "    return np.hstack([intersect_surfaces([mesh, neighbour]) for neighbour in neighbours])\n",
    "\n",
    "t = np.mean(trimesh1.points, axis=0)\n",
    "trimesh1.points -= t\n",
    "trimesh2.points -= t\n",
    "\n",
    "labels = cluster_meshes([trimesh1, trimesh2])\n",
    "labels\n",
    "\n",
    "pv.set_jupyter_backend('ipyvtklink')\n",
    "# p = pv.Plotter()\n",
    "\n",
    "# p.add_mesh(trimesh1, scalars=labels[0])\n",
    "# p.add_mesh(trimesh2, scalars=labels[1])\n",
    "\n",
    "# p.show()\n",
    "\n",
    "intersect_surfaces([trimesh1, trimesh2])[0].plot()\n",
    "# trimesh1.extract_cells(range(27, 29)).extract_surface().area"
   ]
  },
  {
   "cell_type": "code",
   "execution_count": 46,
   "id": "24a00ea2",
   "metadata": {},
   "outputs": [
    {
     "ename": "ModuleNotFoundError",
     "evalue": "No module named 'rtree'",
     "output_type": "error",
     "traceback": [
      "\u001b[1;31m---------------------------------------------------------------------------\u001b[0m",
      "\u001b[1;31mModuleNotFoundError\u001b[0m                       Traceback (most recent call last)",
      "Input \u001b[1;32mIn [46]\u001b[0m, in \u001b[0;36m<cell line: 1>\u001b[1;34m()\u001b[0m\n\u001b[1;32m----> 1\u001b[0m \u001b[38;5;28;01mimport\u001b[39;00m \u001b[38;5;21;01mrtree\u001b[39;00m\u001b[38;5;21;01m.\u001b[39;00m\u001b[38;5;21;01mindex\u001b[39;00m\n\u001b[0;32m      2\u001b[0m \u001b[38;5;28;01mimport\u001b[39;00m \u001b[38;5;21;01mcityjson\u001b[39;00m\n\u001b[0;32m      4\u001b[0m \u001b[38;5;28;01mdef\u001b[39;00m \u001b[38;5;21mget_bbox\u001b[39m(geom, verts):\n",
      "\u001b[1;31mModuleNotFoundError\u001b[0m: No module named 'rtree'"
     ]
    }
   ],
   "source": [
    "import rtree.index\n",
    "import cityjson\n",
    "\n",
    "def get_bbox(geom, verts):\n",
    "    pts = np.array(cityjson.get_points(geom, verts))\n",
    "    \n",
    "    return np.hstack([[np.min(pts[:, i]), np.max(pts[:, i])] for i in range(np.shape(pts)[1])])\n",
    "\n",
    "def generator_function(cm, verts):\n",
    "    for i, objid in enumerate(cm[\"CityObjects\"]):\n",
    "        obj = cm[\"CityObjects\"][objid]\n",
    "        xmin, xmax, ymin, ymax, zmin, zmax = get_bbox(obj[\"geometry\"][0], verts)\n",
    "        yield (i, (xmin, ymin, zmin, xmax, ymax, zmax), objid)\n",
    "\n",
    "p = rtree.index.Property()\n",
    "p.dimension = 3\n",
    "r = rtree.index.Index(generator_function(cm, vertices), properties=p)"
   ]
  },
  {
   "cell_type": "code",
   "execution_count": 88,
   "id": "96199100",
   "metadata": {},
   "outputs": [],
   "source": [
    "def plot_meshes(meshes, **kargs):\n",
    "    p = pv.Plotter(**kargs)\n",
    "    \n",
    "    p.add_mesh(meshes[0], color=\"red\")\n",
    "    for mesh in meshes[1:]:\n",
    "        p.add_mesh(mesh)\n",
    "    \n",
    "    p.show()"
   ]
  },
  {
   "cell_type": "code",
   "execution_count": 89,
   "id": "6a6cb49d",
   "metadata": {},
   "outputs": [
    {
     "data": {
      "image/png": "[encoded data removed]",
      "text/plain": [
       "<PIL.Image.Image image mode=RGB size=1024x768 at 0x23EC49B42B0>"
      ]
     },
     "metadata": {},
     "output_type": "display_data"
    }
   ],
   "source": [
    "mainid = \"NL.IMBAG.Pand.0503100000002036-0\"\n",
    "\n",
    "xmin, xmax, ymin, ymax, zmin, zmax = get_bbox(cm[\"CityObjects\"][mainid][\"geometry\"][0], verts)\n",
    "objids = [n.object for n in r.intersection((xmin, ymin, zmin, xmax, ymax, zmax), objects=True) if n.object != mainid]\n",
    "\n",
    "main_mesh = cityjson.to_triangulated_polydata(cm[\"CityObjects\"][mainid][\"geometry\"][0], vertices).clean()\n",
    "meshes = [cityjson.to_triangulated_polydata(cm[\"CityObjects\"][objid][\"geometry\"][0], vertices).clean() for objid in objids]\n",
    "\n",
    "t = np.mean(main_mesh.points, axis=0)\n",
    "\n",
    "main_mesh.points -= t\n",
    "for mesh in meshes:\n",
    "    mesh.points -= t\n",
    "\n",
    "plot_meshes([main_mesh] + meshes)"
   ]
  },
  {
   "cell_type": "code",
   "execution_count": 90,
   "id": "d7900f75",
   "metadata": {},
   "outputs": [],
   "source": [
    "walls = intersect_pairs(main_mesh, meshes)"
   ]
  },
  {
   "cell_type": "code",
   "execution_count": 91,
   "id": "ef79beab",
   "metadata": {},
   "outputs": [
    {
     "name": "stdout",
     "output_type": "stream",
     "text": [
      "73.74503056346961 - 73.74502896499408\n"
     ]
    }
   ],
   "source": [
    "area_pv = sum([wall.triangulate().area for wall in walls])\n",
    "area_2d = sum(wall[\"area\"][0] for wall in walls)\n",
    "\n",
    "print(f\"{area_pv} - {area_2d}\")"
   ]
  },
  {
   "cell_type": "code",
   "execution_count": 94,
   "id": "dec1a10c",
   "metadata": {},
   "outputs": [
    {
     "data": {
      "image/png": "[encoded data removed]",
      "text/plain": [
       "<PIL.Image.Image image mode=RGB size=1024x768 at 0x23ECB997D30>"
      ]
     },
     "metadata": {},
     "output_type": "display_data"
    }
   ],
   "source": [
    "main_mesh.plot(scalars=cluster_meshes([main_mesh])[0])"
   ]
  },
  {
   "cell_type": "code",
   "execution_count": 97,
   "id": "3ad1f647",
   "metadata": {},
   "outputs": [
    {
     "data": {
      "image/png": "[encoded data removed]",
      "text/plain": [
       "<PIL.Image.Image image mode=RGB size=1024x768 at 0x23ECB9977F0>"
      ]
     },
     "metadata": {},
     "output_type": "display_data"
    }
   ],
   "source": [
    "\n",
    "import numpy as np\n",
    "import math\n",
    "\n",
    "def distance(x, y):\n",
    "    \"\"\"Returns the euclidean distance between two points\"\"\"\n",
    "    \n",
    "    return math.sqrt(sum([math.pow(x[c] - y[c], 2) for c in range(len(x))]))\n",
    "\n",
    "def abs_distance(x, y):\n",
    "    \"\"\"Returns the minimum absolute distance\"\"\"\n",
    "    \n",
    "    return min(distance(x, y), distance(x, [-e for e in y]))\n",
    "\n",
    "t = np.mean(main_mesh.points, axis=0)\n",
    "main_mesh.points -= t\n",
    "\n",
    "\n",
    "\n",
    "labels, n_clusters = cluster_faces(face_planes(main_mesh))\n",
    "import matplotlib.pyplot as plt\n",
    "boring_cmap = plt.cm.get_cmap(\"tab20b\", n_clusters)\n",
    "main_mesh.plot(scalars=labels, show_edges=True, cmap=boring_cmap)\n",
    "\n",
    "main_mesh.save(\"cluster.vtk\")"
   ]
  },
  {
   "cell_type": "code",
   "execution_count": 98,
   "id": "3e1918b3",
   "metadata": {},
   "outputs": [
    {
     "name": "stdout",
     "output_type": "stream",
     "text": [
      "0.0494847297668457\n"
     ]
    }
   ],
   "source": [
    "import time\n",
    "\n",
    "start = time.time()\n",
    "\n",
    "cluster_meshes(meshes)\n",
    "\n",
    "end = time.time()\n",
    "print(end - start)"
   ]
  },
  {
   "cell_type": "code",
   "execution_count": 99,
   "id": "a051fa9e",
   "metadata": {},
   "outputs": [
    {
     "name": "stdout",
     "output_type": "stream",
     "text": [
      "0.0331876277923584\n"
     ]
    }
   ],
   "source": [
    "start = time.time()\n",
    "\n",
    "labels, n_clusters = cluster_faces(face_planes(main_mesh))\n",
    "\n",
    "end = time.time()\n",
    "print(end - start)"
   ]
  },
  {
   "cell_type": "code",
   "execution_count": 100,
   "id": "1830d3d1",
   "metadata": {},
   "outputs": [
    {
     "data": {
      "text/plain": [
       "array([[0.000, 0.000, 0.000, ..., 2.000, 2.000, 2.000],\n",
       "       [0.000, 0.000, 0.000, ..., 2.000, 2.000, 2.000],\n",
       "       [0.000, 0.000, 0.000, ..., 2.000, 2.000, 2.000],\n",
       "       ...,\n",
       "       [2.000, 2.000, 2.000, ..., 0.000, 0.000, 0.000],\n",
       "       [2.000, 2.000, 2.000, ..., 0.000, 0.000, 0.000],\n",
       "       [2.000, 2.000, 2.000, ..., 0.000, 0.000, 0.000]])"
      ]
     },
     "execution_count": 100,
     "metadata": {},
     "output_type": "execute_result"
    }
   ],
   "source": [
    "data = np.array(face_planes(main_mesh))\n",
    "\n",
    "dm1 = scipy.spatial.distance_matrix(data, data)\n",
    "dm2 = scipy.spatial.distance_matrix(data, -data)\n",
    "\n",
    "np.minimum(dm1, dm2)"
   ]
  },
  {
   "cell_type": "code",
   "execution_count": null,
   "id": "2c25a7a5",
   "metadata": {},
   "outputs": [],
   "source": []
  }
 ],
 "metadata": {
  "kernelspec": {
   "display_name": "Python 3 (ipykernel)",
   "language": "python",
   "name": "python3"
  },
  "language_info": {
   "codemirror_mode": {
    "name": "ipython",
    "version": 3
   },
   "file_extension": ".py",
   "mimetype": "text/x-python",
   "name": "python",
   "nbconvert_exporter": "python",
   "pygments_lexer": "ipython3",
   "version": "3.10.2"
  },
  "toc-autonumbering": false,
  "toc-showcode": false,
  "toc-showmarkdowntxt": false
 },
 "nbformat": 4,
 "nbformat_minor": 5
}
