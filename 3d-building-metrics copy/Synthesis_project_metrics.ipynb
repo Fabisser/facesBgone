{
 "cells": [
  {
   "cell_type": "code",
   "execution_count": 5,
   "id": "c7d92865",
   "metadata": {},
   "outputs": [
    {
     "name": "stderr",
     "output_type": "stream",
     "text": [
      "fatal: destination path '3d-building-metrics' already exists and is not an empty directory.\n"
     ]
    }
   ],
   "source": [
    "# !git clone https://github.com/tudelft3d/3d-building-metrics.git"
   ]
  },
  {
   "cell_type": "code",
   "execution_count": 1,
   "id": "0fdd686e",
   "metadata": {},
   "outputs": [
    {
     "name": "stdout",
     "output_type": "stream",
     "text": [
      "[WinError 2] The system cannot find the file specified: '3d-building-metrics/'\n",
      "C:\\Users\\Panagiotior\\Desktop\\Test_Jupyter\\3d-building-metrics\n"
     ]
    }
   ],
   "source": [
    "# cd 3d-building-metrics/"
   ]
  },
  {
   "cell_type": "markdown",
   "id": "566abc25",
   "metadata": {},
   "source": [
    "Libraries"
   ]
  },
  {
   "cell_type": "code",
   "execution_count": 1,
   "id": "ef52f58e",
   "metadata": {},
   "outputs": [],
   "source": [
    "import numpy as np\n",
    "import pyvista as pv\n",
    "import pymesh\n",
    "from helpers.geometry import plane_params, project_mesh, to_3d # module and defs\n",
    "from scipy.spatial import distance_matrix\n",
    "from sklearn.cluster import AgglomerativeClustering\n",
    "import json\n",
    "import cityjson # module \n",
    "import os\n",
    "\n",
    "def rpath(path):\n",
    "    return os.path.expanduser(path)"
   ]
  },
  {
   "cell_type": "markdown",
   "id": "8bca4d43",
   "metadata": {},
   "source": [
    "LOAD THE CityJSON file"
   ]
  },
  {
   "cell_type": "code",
   "execution_count": 2,
   "id": "d0bf8ef2",
   "metadata": {},
   "outputs": [],
   "source": [
    "float_formatter = \"{:.3f}\".format\n",
    "np.set_printoptions(formatter={'float_kind':float_formatter})\n",
    "\n",
    "filename = rpath(\"C:/Users/Panagiotior/Desktop/SYNTHESIS/Data/3dbag_v210908_fd2cee53_5907/3dbag_v210908_fd2cee53_5907.json\")\n",
    "\n",
    "with open(filename) as file:\n",
    "    cm = json.load(file)\n",
    "\n",
    "if \"transform\" in cm:\n",
    "    s = cm[\"transform\"][\"scale\"]\n",
    "    t = cm[\"transform\"][\"translate\"]\n",
    "    verts = [[v[0] * s[0] + t[0], v[1] * s[1] + t[1], v[2] * s[2] + t[2]]\n",
    "            for v in cm[\"vertices\"]]\n",
    "else:\n",
    "    verts = cm[\"vertices\"]\n",
    "\n",
    "# mesh points\n",
    "vertices = np.array(verts) # type = np.ndarray\n"
   ]
  },
  {
   "cell_type": "markdown",
   "id": "1e99680a",
   "metadata": {},
   "source": [
    "LOAD a CITY OBJECT in pyvista"
   ]
  },
  {
   "cell_type": "code",
   "execution_count": 3,
   "id": "5002762a",
   "metadata": {
    "scrolled": false
   },
   "outputs": [
    {
     "data": {
      "application/vnd.jupyter.widget-view+json": {
       "model_id": "aa203c1176084e64a8425c649591e95c",
       "version_major": 2,
       "version_minor": 0
      },
      "text/plain": [
       "ViewInteractiveWidget(height=768, layout=Layout(height='auto', width='100%'), width=1024)"
      ]
     },
     "metadata": {},
     "output_type": "display_data"
    }
   ],
   "source": [
    "# pick a CITY OBJECT to play with\n",
    "obj1 = \"NL.IMBAG.Pand.0503100000019229-0\"\n",
    "obj2 = \"NL.IMBAG.Pand.0503100000019232-0\"\n",
    "\n",
    "building1 = cm[\"CityObjects\"][obj1]\n",
    "building2 = cm[\"CityObjects\"][obj2]\n",
    "\n",
    "\"\"\"Loading and plotting the first geometry as a pure pyvista (no triangulation done). \"\"\"\n",
    "\n",
    "\"\"\"What to_polydata is doing: \n",
    "        - it gets surface boundaries from the CityJSON geometry\n",
    "        - it creates the faces this way\n",
    "        - it uses the vertices and faces to call pv.PolyData and create the polydata MESH in pyvista\n",
    "        - finally, it stores the semantics of each cell in a cell_data (dictionary) (mesh.cell_data)\"\"\"\n",
    "\n",
    " # Returns the triangulated polydata mesh from a CityJSON geometry.\n",
    "trimesh1 = cityjson.to_triangulated_polydata(building1[\"geometry\"][0], vertices).clean()\n",
    "trimesh2 = cityjson.to_triangulated_polydata(building2[\"geometry\"][0], vertices).clean()\n",
    "\n",
    "p = pv.Plotter()\n",
    "p.add_mesh(trimesh1, color=\"yellow\")\n",
    "p.add_mesh(trimesh2, color=\"red\")\n",
    "p.show()\n"
   ]
  },
  {
   "cell_type": "code",
   "execution_count": 5,
   "id": "7e49147d",
   "metadata": {},
   "outputs": [],
   "source": [
    "\"\"\"Define a function to turn mesh into a pymesh from a pyvista PolyData.\"\"\"\n",
    "def to_pymesh(mesh):\n",
    "    \"\"\"Returns a pymesh from a pyvista PolyData\"\"\"\n",
    "    v = mesh.points\n",
    "    f = mesh.faces.reshape(-1, 4)[:, 1:]\n",
    "\n",
    "    return pymesh.form_mesh(v, f)"
   ]
  },
  {
   "cell_type": "code",
   "execution_count": 6,
   "id": "0c6376fb",
   "metadata": {},
   "outputs": [
    {
     "ename": "AttributeError",
     "evalue": "module 'pymesh' has no attribute 'form_mesh'",
     "output_type": "error",
     "traceback": [
      "\u001b[1;31m---------------------------------------------------------------------------\u001b[0m",
      "\u001b[1;31mAttributeError\u001b[0m                            Traceback (most recent call last)",
      "Input \u001b[1;32mIn [6]\u001b[0m, in \u001b[0;36m<cell line: 2>\u001b[1;34m()\u001b[0m\n\u001b[0;32m      1\u001b[0m \u001b[38;5;124;03m\"\"\"Use the above function\"\"\"\u001b[39;00m\n\u001b[1;32m----> 2\u001b[0m m1 \u001b[38;5;241m=\u001b[39m \u001b[43mto_pymesh\u001b[49m\u001b[43m(\u001b[49m\u001b[43mtrimesh1\u001b[49m\u001b[43m)\u001b[49m\n\u001b[0;32m      3\u001b[0m m2 \u001b[38;5;241m=\u001b[39m to_pymesh(trimesh2)\n\u001b[0;32m      5\u001b[0m wall \u001b[38;5;241m=\u001b[39m pymesh\u001b[38;5;241m.\u001b[39mboolean(m1, m2, operation\u001b[38;5;241m=\u001b[39m\u001b[38;5;124m\"\u001b[39m\u001b[38;5;124mintersection\u001b[39m\u001b[38;5;124m\"\u001b[39m, engine\u001b[38;5;241m=\u001b[39m\u001b[38;5;124m\"\u001b[39m\u001b[38;5;124migl\u001b[39m\u001b[38;5;124m\"\u001b[39m)\n",
      "Input \u001b[1;32mIn [5]\u001b[0m, in \u001b[0;36mto_pymesh\u001b[1;34m(mesh)\u001b[0m\n\u001b[0;32m      4\u001b[0m v \u001b[38;5;241m=\u001b[39m mesh\u001b[38;5;241m.\u001b[39mpoints\n\u001b[0;32m      5\u001b[0m f \u001b[38;5;241m=\u001b[39m mesh\u001b[38;5;241m.\u001b[39mfaces\u001b[38;5;241m.\u001b[39mreshape(\u001b[38;5;241m-\u001b[39m\u001b[38;5;241m1\u001b[39m, \u001b[38;5;241m4\u001b[39m)[:, \u001b[38;5;241m1\u001b[39m:]\n\u001b[1;32m----> 7\u001b[0m \u001b[38;5;28;01mreturn\u001b[39;00m \u001b[43mpymesh\u001b[49m\u001b[38;5;241;43m.\u001b[39;49m\u001b[43mform_mesh\u001b[49m(v, f)\n",
      "\u001b[1;31mAttributeError\u001b[0m: module 'pymesh' has no attribute 'form_mesh'"
     ]
    }
   ],
   "source": [
    "\"\"\"Use the above function\"\"\"\n",
    "m1 = to_pymesh(trimesh1)\n",
    "m2 = to_pymesh(trimesh2)\n",
    "\n",
    "wall = pymesh.boolean(m1, m2, operation=\"intersection\", engine=\"igl\")\n",
    "\n",
    "to_pyvista(wall)"
   ]
  },
  {
   "cell_type": "markdown",
   "id": "967b6359",
   "metadata": {},
   "source": []
  },
  {
   "cell_type": "code",
   "execution_count": 84,
   "id": "dc2298ef",
   "metadata": {},
   "outputs": [],
   "source": []
  }
 ],
 "metadata": {
  "kernelspec": {
   "display_name": "Python 3 (ipykernel)",
   "language": "python",
   "name": "python3"
  },
  "language_info": {
   "codemirror_mode": {
    "name": "ipython",
    "version": 3
   },
   "file_extension": ".py",
   "mimetype": "text/x-python",
   "name": "python",
   "nbconvert_exporter": "python",
   "pygments_lexer": "ipython3",
   "version": "3.10.2"
  }
 },
 "nbformat": 4,
 "nbformat_minor": 5
}
